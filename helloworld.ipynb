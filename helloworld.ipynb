{
 "cells": [
  {
   "cell_type": "code",
   "execution_count": 1,
   "metadata": {},
   "outputs": [
    {
     "name": "stdout",
     "output_type": "stream",
     "text": [
      "3\n",
      "-3\n",
      "3.14\n",
      "10\n",
      "21\n",
      "33\n"
     ]
    }
   ],
   "source": [
    "#숫자 자료형\n",
    "print(3)\n",
    "print(-3)\n",
    "print(3.14)\n",
    "print(3+7)\n",
    "print(3*7)\n",
    "print(3*(2+9))"
   ]
  },
  {
   "cell_type": "code",
   "execution_count": 2,
   "metadata": {},
   "outputs": [
    {
     "name": "stdout",
     "output_type": "stream",
     "text": [
      "뉴진스\n",
      "하니\n",
      "hype \"Boy\n",
      "Hype 'Boy'\n",
      "Hype \"Boy\"\n",
      "iiiiiiiii\n",
      "iiiiiii\n"
     ]
    }
   ],
   "source": [
    "#문자열 자료형\n",
    "print('뉴진스')\n",
    "print(\"하니\")\n",
    "print('hype \"Boy')\n",
    "print(\"Hype 'Boy'\")\n",
    "print(\"Hype \\\"Boy\\\"\")\n",
    "print(\"iiiiiiiii\")\n",
    "print(\"i\"*7)\n"
   ]
  },
  {
   "cell_type": "code",
   "execution_count": 3,
   "metadata": {},
   "outputs": [
    {
     "name": "stdout",
     "output_type": "stream",
     "text": [
      "배가 고파서 휴게소에서핫도그먹을 거에요\n",
      "핫도그는4개 먹을게요\n",
      " 벌크업은 가능할까요?True\n"
     ]
    }
   ],
   "source": [
    "# 변수\n",
    "place = \"휴게소\"\n",
    "food = \"핫도그\"\n",
    "count = 4\n",
    "bulk_up = count>=2\n",
    "\n",
    "print(\"배가 고파서 \"+place +\"에서\" + food+\"먹을 거에요\")\n",
    "print(food+\"는\" +str (count) + \"개 먹을게요\")\n",
    "print(\" 벌크업은 가능할까요?\"+ str(bulk_up)) "
   ]
  },
  {
   "cell_type": "code",
   "execution_count": 4,
   "metadata": {},
   "outputs": [
    {
     "name": "stdout",
     "output_type": "stream",
     "text": [
      "오늘 점심 메뉴는 치킨, 파스타, 냉면입니다. 오예~~ \n"
     ]
    }
   ],
   "source": [
    "lunch_menu = \"치킨, 파스타, 냉면\"\n",
    "print(\"오늘 점심 메뉴는 \"+lunch_menu+\"입니다. 오예~~ \")"
   ]
  },
  {
   "cell_type": "code",
   "execution_count": 5,
   "metadata": {},
   "outputs": [
    {
     "name": "stdout",
     "output_type": "stream",
     "text": [
      "3\n",
      "4\n",
      "9\n",
      "4.5\n"
     ]
    }
   ],
   "source": [
    "# 연산자 1\n",
    "print(1+2)\n",
    "print(6-2)\n",
    "print(3*3)\n",
    "print(9/2) \n"
   ]
  },
  {
   "cell_type": "code",
   "execution_count": 8,
   "metadata": {},
   "outputs": [
    {
     "name": "stdout",
     "output_type": "stream",
     "text": [
      "16\n",
      "1\n",
      "3\n",
      "True\n",
      "False\n",
      "False\n",
      "True\n",
      "True\n"
     ]
    }
   ],
   "source": [
    "#연산자 2\n",
    "print(2**4) #2^4 = 16 \n",
    "print(9%2) #나머지 1\n",
    "print(10//3) #몫    \n",
    "print(1!=3) #같지 않음\n",
    "\n",
    "print((3>0) and (3>5)) #둘 다 만족하면 True\n",
    "print((3>0) & (3>5))\n",
    "\n",
    "print((3>0)) or (3>5) #둘 중에 하나 만족하면 True   \n",
    "print((3>0) | (3>5))\n"
   ]
  },
  {
   "cell_type": "code",
   "execution_count": 10,
   "metadata": {},
   "outputs": [
    {
     "name": "stdout",
     "output_type": "stream",
     "text": [
      "5\n",
      "64\n",
      "12\n",
      "5\n",
      "4\n",
      "2\n"
     ]
    }
   ],
   "source": [
    "#숫자처리함수\n",
    "print(abs(-5)) #절댓값\n",
    "print(pow(4, 3)) #4^3 = 4*4*4\n",
    "print(max(5, 12)) #12\n",
    "print(min(5, 12)) #5\n",
    "print(round(3.55)) #4\n",
    "print(round(2.11)) #2\n",
    "\n"
   ]
  },
  {
   "cell_type": "code",
   "execution_count": 11,
   "metadata": {},
   "outputs": [
    {
     "name": "stdout",
     "output_type": "stream",
     "text": [
      "4\n",
      "4\n",
      "2.0\n"
     ]
    }
   ],
   "source": [
    "from math import *\n",
    "print(floor(4.99)) #내림\n",
    "print(ceil(3.14)) #올림\n",
    "print(sqrt(4)) #제곱근\n"
   ]
  },
  {
   "cell_type": "code",
   "execution_count": 12,
   "metadata": {},
   "outputs": [
    {
     "name": "stdout",
     "output_type": "stream",
     "text": [
      "0.8825538635250026\n",
      "2\n",
      "15\n",
      "10\n"
     ]
    }
   ],
   "source": [
    "#랜덤 함수\n",
    "from random import *\n",
    "\n",
    "print(random()) #0.0~1.0 미만\n",
    "print(int(random()*10)) #0~10미만\n",
    "\n",
    "print(randrange(1, 26)) #1~26미만\n",
    "print(randint(1, 25)) #1~25이하"
   ]
  },
  {
   "cell_type": "code",
   "execution_count": 18,
   "metadata": {},
   "outputs": [
    {
     "name": "stdout",
     "output_type": "stream",
     "text": [
      "댄스 동아리 연습 날짜는 매월 30일 13일  5일 입니다.\n"
     ]
    }
   ],
   "source": [
    "from random import *\n",
    "a = randint(1, 30)\n",
    "b = randint(1, 30)\n",
    "c = randint(1, 30)\n",
    "\n",
    "print(\"댄스 동아리 연습 날짜는 매월 {0}일 {1}일  {2}일 입니다.\".format(a, b, c))"
   ]
  },
  {
   "cell_type": "code",
   "execution_count": 22,
   "metadata": {},
   "outputs": [
    {
     "name": "stdout",
     "output_type": "stream",
     "text": [
      "중간자리 : 1234\n",
      "뒷자리만 빼고 :010-1234\n",
      "뒷자리 : 5677\n",
      "뒤에서 5자리 : -5677\n"
     ]
    }
   ],
   "source": [
    "#슬라이싱\n",
    "\n",
    "phone_number  = \"010-1234-5677\"\n",
    "\n",
    "#인\"덱스는 0부터 시작~\n",
    "print(\"중간자리 : \"+ phone_number[4:8]) #4부터 8 전까지\n",
    "print(\"뒷자리만 빼고 :\" +phone_number[:8])\n",
    "print(\"뒷자리 : \" + phone_number[9:]) #9부터 끝까지 \n",
    "print(\"뒤에서 5자리 : \" + phone_number[-5:]) #9부터 끝까지\n"
   ]
  },
  {
   "cell_type": "code",
   "execution_count": 23,
   "metadata": {},
   "outputs": [
    {
     "name": "stdout",
     "output_type": "stream",
     "text": [
      "strawberry cake\n",
      "STRAWBERRY CAKE\n",
      "True\n",
      "15\n",
      "Chocolate Cake\n",
      "1\n",
      "-1\n",
      "1\n"
     ]
    }
   ],
   "source": [
    "#문자열 처리함수\n",
    "cake = \"Strawberry Cake\"\n",
    "print(cake.lower())\n",
    "print(cake.upper())\n",
    "\n",
    "print(cake[0].isupper())\n",
    "print(len(cake))\n",
    "print(cake.replace(\"Strawberry\", \"Chocolate\"))\n",
    "\n",
    "index = cake.index(\"t\")\n",
    "print(index)\n",
    "\n",
    "print(cake.find(\"pie\"))  #없을 때는 -1 변환\n",
    "#print(cake. index(\"pie\")) #없을 때는 에러\n",
    "\n",
    "print(cake.count(\"t\"))\n",
    "\n"
   ]
  },
  {
   "cell_type": "code",
   "execution_count": 24,
   "metadata": {},
   "outputs": [
    {
     "name": "stdout",
     "output_type": "stream",
     "text": [
      "우리집 고양이는 30살 입니다.\n",
      "고양이는 츄르를 좋아해요.\n",
      "chur는 c로 시작해요~.\n"
     ]
    }
   ],
   "source": [
    "#문자열 포맷팅 1\n",
    "print(\"우리집 고양이는 %d살 입니다.\" %30) \n",
    "print(\"고양이는 %s를 좋아해요.\" %\"츄르\") \n",
    "print(\"chur는 %c로 시작해요~.\" %\"c\")\n"
   ]
  },
  {
   "cell_type": "code",
   "execution_count": 26,
   "metadata": {},
   "outputs": [
    {
     "name": "stdout",
     "output_type": "stream",
     "text": [
      "코코는 2살 입니다. \n",
      "코코는 망고맛과 수박맛을 좋아해요\n",
      "코코는 수박맛과 망고맛을 좋아해요\n"
     ]
    }
   ],
   "source": [
    "#문자열 포맷팅 2\n",
    "print(\"코코는 {}살 입니다. \".format(2))\n",
    "print(\"코코는 {0}맛과 {1}맛을 좋아해요\".format(\"망고\", \"수박\"))\n",
    "print(\"코코는 {1}맛과 {0}맛을 좋아해요\".format(\"망고\", \"수박\"))"
   ]
  },
  {
   "cell_type": "code",
   "execution_count": 27,
   "metadata": {},
   "outputs": [
    {
     "name": "stdout",
     "output_type": "stream",
     "text": [
      "코코는 2살이며, 레온색을 좋아해요.\n",
      "코코는 2살이며, 레온색을 좋아해요.\n"
     ]
    }
   ],
   "source": [
    "#문자열 포맷팅3\n",
    "\n",
    "print(\"코코는 {age}살이며, {color}색을 좋아해요.\".format(age =2, color =\"레온\"))\n",
    "print(\"코코는 {age}살이며, {color}색을 좋아해요.\".format(color = \"레온\", age =2))"
   ]
  },
  {
   "cell_type": "code",
   "execution_count": 28,
   "metadata": {},
   "outputs": [
    {
     "name": "stdout",
     "output_type": "stream",
     "text": [
      "코코는 2살이며, 레온색을 좋아해요\n"
     ]
    }
   ],
   "source": [
    "#문자열 포맷팅4\n",
    "age = 2\n",
    "color = \"레온\"\n",
    "print(f\"코코는 {age}살이며, {color}색을 좋아해요\")"
   ]
  },
  {
   "cell_type": "code",
   "execution_count": 32,
   "metadata": {},
   "outputs": [
    {
     "name": "stdout",
     "output_type": "stream",
     "text": [
      "집에 가고 싶다\n",
      "맛있는 거 먹고싶다.\n",
      "집에 가서 \"닭갈비\" 먹고싶다.\n",
      "C:\\Users\\celia\\Desktop\n"
     ]
    }
   ],
   "source": [
    "#이스케이프 문자\n",
    "print(\"집에 가고 싶다\\n맛있는 거 먹고싶다.\")\n",
    "#print(\"집에 가서 \"닭갈비\" 먹고싶다.\")\n",
    "print(\"집에 가서 \\\"닭갈비\\\" 먹고싶다.\")\n",
    "\n",
    "#print(\"C:\\Users\\celia\\Desktop\")\n",
    "print(\"C:\\\\Users\\\\celia\\\\Desktop\")\n"
   ]
  },
  {
   "cell_type": "code",
   "execution_count": 37,
   "metadata": {},
   "outputs": [
    {
     "name": "stdout",
     "output_type": "stream",
     "text": [
      "google\n"
     ]
    }
   ],
   "source": [
    "site = \"http://www.google.com\"\n",
    "rule2= site[11:17]\n",
    "pw = rule2[:3] +str(len(rule2))+rule2.index('e')+\"@\"\n",
    "print(pw)"
   ]
  },
  {
   "cell_type": "code",
   "execution_count": 38,
   "metadata": {},
   "outputs": [
    {
     "name": "stdout",
     "output_type": "stream",
     "text": [
      "['아메리카노', '바닐라라떼', '복숭아스무디']\n"
     ]
    }
   ],
   "source": [
    "cafe_menu = ['아메리카노', \"바닐라라떼\", \"복숭아스무디\"] #순서가 있다~\n",
    "print(cafe_menu)\n"
   ]
  },
  {
   "cell_type": "code",
   "execution_count": 39,
   "metadata": {},
   "outputs": [
    {
     "name": "stdout",
     "output_type": "stream",
     "text": [
      "['아메리카노', '바닐라라떼', '복숭아스무디', '레몬에이드']\n"
     ]
    }
   ],
   "source": [
    "cafe_menu.append(\"레몬에이드\")\n",
    "print(cafe_menu)\n"
   ]
  },
  {
   "cell_type": "code",
   "execution_count": null,
   "metadata": {},
   "outputs": [],
   "source": [
    "cafe_menu.insert(2, \"녹차프라푸치노\")\n",
    "print(cafe_menu)\n"
   ]
  },
  {
   "cell_type": "code",
   "execution_count": null,
   "metadata": {},
   "outputs": [],
   "source": [
    "print(cafe_menu.pop())\n",
    "print(cafe_menu)\n"
   ]
  },
  {
   "cell_type": "code",
   "execution_count": 41,
   "metadata": {},
   "outputs": [
    {
     "name": "stdout",
     "output_type": "stream",
     "text": [
      "['아메리카노', '바닐라라떼', '복숭아스무디', '레몬에이드', '바닐라라떼']\n",
      "2\n"
     ]
    }
   ],
   "source": [
    "cafe_menu.append(\"바닐라라떼\")\n",
    "print(cafe_menu)\n",
    "print(cafe_menu.count(\"바닐라라떼\"))\n"
   ]
  },
  {
   "cell_type": "code",
   "execution_count": 42,
   "metadata": {},
   "outputs": [
    {
     "name": "stdout",
     "output_type": "stream",
     "text": [
      "[1, 2, 3, 4, 5]\n"
     ]
    }
   ],
   "source": [
    "num_list = [5,2,4,3,1]\n",
    "num_list.sort()\n",
    "print(num_list)\n"
   ]
  },
  {
   "cell_type": "code",
   "execution_count": 43,
   "metadata": {},
   "outputs": [
    {
     "name": "stdout",
     "output_type": "stream",
     "text": [
      "['apple', 'banana', 'cat']\n"
     ]
    }
   ],
   "source": [
    "num_list = ['cat', 'apple', 'banana']\n",
    "num_list.sort()\n",
    "print(num_list)\n"
   ]
  },
  {
   "cell_type": "code",
   "execution_count": 44,
   "metadata": {},
   "outputs": [
    {
     "name": "stdout",
     "output_type": "stream",
     "text": [
      "[31, 5, 4, 2]\n"
     ]
    }
   ],
   "source": [
    "num_list = [5,2,4,31]\n",
    "num_list.sort()\n",
    "\n",
    "num_list.reverse()\n",
    "print(num_list)\n"
   ]
  },
  {
   "cell_type": "code",
   "execution_count": 45,
   "metadata": {},
   "outputs": [
    {
     "name": "stdout",
     "output_type": "stream",
     "text": [
      "[]\n"
     ]
    }
   ],
   "source": [
    "num_list = [5,2,4,3,1]\n",
    "num_list.sort()\n",
    "num_list.reverse()\n",
    "num_list.clear()\n",
    "print(num_list)\n"
   ]
  },
  {
   "cell_type": "code",
   "execution_count": 49,
   "metadata": {},
   "outputs": [
    {
     "name": "stdout",
     "output_type": "stream",
     "text": [
      "[5, 2, 4, 3, 1, '조세호', 20, True]\n"
     ]
    }
   ],
   "source": [
    "mix_list = [\"조세호\", 20, True]\n",
    "num_list = [5,2,4,3,1]\n",
    "num_list.extend(mix_list)\n",
    "print(num_list)\n"
   ]
  },
  {
   "cell_type": "code",
   "execution_count": 50,
   "metadata": {},
   "outputs": [
    {
     "name": "stdout",
     "output_type": "stream",
     "text": [
      "자몽에이드\n",
      "레몬에이드\n"
     ]
    }
   ],
   "source": [
    "cafe_menu = {3:\"자몽에이드\", 100:\"레몬에이드\"}\n",
    "print(cafe_menu[3])\n",
    "print(cafe_menu[100])"
   ]
  },
  {
   "cell_type": "code",
   "execution_count": 53,
   "metadata": {},
   "outputs": [
    {
     "name": "stdout",
     "output_type": "stream",
     "text": [
      "자몽에이드\n"
     ]
    }
   ],
   "source": [
    "cafe_menu = {3:\"자몽에이드\", 100:\"레몬에이드\"}\n",
    "print(cafe_menu.get(3))"
   ]
  },
  {
   "cell_type": "code",
   "execution_count": null,
   "metadata": {},
   "outputs": [],
   "source": [
    "print(cafe_menu[5]) #error 나면서 종료\n",
    "print(cafe_menu.get(5)) #none 출력하고 다음 것 진행\n",
    "print(cafe_menu.get(5, \"비어있음\")) #none 대신 다른 출력~"
   ]
  },
  {
   "cell_type": "code",
   "execution_count": null,
   "metadata": {},
   "outputs": [],
   "source": [
    "print(3 in cafe_menu))"
   ]
  }
 ],
 "metadata": {
  "kernelspec": {
   "display_name": "Python 3",
   "language": "python",
   "name": "python3"
  },
  "language_info": {
   "codemirror_mode": {
    "name": "ipython",
    "version": 3
   },
   "file_extension": ".py",
   "mimetype": "text/x-python",
   "name": "python",
   "nbconvert_exporter": "python",
   "pygments_lexer": "ipython3",
   "version": "3.10.6"
  },
  "orig_nbformat": 4
 },
 "nbformat": 4,
 "nbformat_minor": 2
}
