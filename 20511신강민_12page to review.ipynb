{
  "nbformat": 4,
  "nbformat_minor": 0,
  "metadata": {
    "colab": {
      "provenance": []
    },
    "kernelspec": {
      "name": "python3",
      "display_name": "Python 3"
    },
    "language_info": {
      "name": "python"
    }
  },
  "cells": [
    {
      "cell_type": "markdown",
      "source": [
        "page12"
      ],
      "metadata": {
        "id": "DwF7Oh-auck0"
      }
    },
    {
      "cell_type": "code",
      "source": [
        "weight = int(input(\"체중을 입력하세요 :\"))\n",
        "m = float(input(\"키를 입력하세요 : \"))\n",
        "bmi = weight / m**2.0\n",
        "if 0<=bmi<=15 :\n",
        "  situ = \"비만\"\n",
        "elif 15<bmi<=25 :\n",
        "  situ = \"과체중\"\n",
        "else :\n",
        "  situ = \"비만\"\n",
        "print(\"당신의 bmi지수는 %.8f이며 %s입니다.\"%(bmi, situ))"
      ],
      "metadata": {
        "colab": {
          "base_uri": "https://localhost:8080/"
        },
        "id": "ZWSHz8PhukRs",
        "outputId": "763f39b5-3375-4f59-d64c-84d87bb09f8b"
      },
      "execution_count": 3,
      "outputs": [
        {
          "output_type": "stream",
          "name": "stdout",
          "text": [
            "체중을 입력하세요 :88\n",
            "키를 입력하세요 : 1.8\n",
            "당신의 bmi지수는 27.16049383이며 비만입니다.\n"
          ]
        }
      ]
    },
    {
      "cell_type": "markdown",
      "source": [
        "page13"
      ],
      "metadata": {
        "id": "lYUSTmcC3cEk"
      }
    },
    {
      "cell_type": "code",
      "source": [
        "weight = int(input(\"체중을 입력하세요:\"))\n",
        "height = int(input(\"키를 입력하세요:\"))\n",
        "age = int(input(\"나이를 입력하세요:\"))\n",
        "gender = input(\"성별을 입력하세요: 남자/여자\")\n",
        "if gender == \"남자\" :\n",
        "  bmr = 66.47+(13.75 * weight)+ (5* height) - (6.76 * age)\n",
        "else: \n",
        "  bmr = 655.1 + (9.56 * weight) + (1.85 * height) - (4.68 * age)\n",
        "  \n",
        "print(\"당신의 기초대사량은 %.13f입니다\"%(bmr))"
      ],
      "metadata": {
        "colab": {
          "base_uri": "https://localhost:8080/"
        },
        "id": "FPxnvIV4wyKk",
        "outputId": "5942c834-7f6b-4e06-b74c-f115a108f0e5"
      },
      "execution_count": 6,
      "outputs": [
        {
          "output_type": "stream",
          "name": "stdout",
          "text": [
            "체중을 입력하세요:90\n",
            "키를 입력하세요:183\n",
            "나이를 입력하세요:39\n",
            "성별을 입력하세요: 남자/여자남자\n",
            "당신의 기초대사량은 1955.3300000000004입니다\n"
          ]
        }
      ]
    },
    {
      "cell_type": "code",
      "source": [
        "x = 17\n",
        "if x> 10 :\n",
        "  if x % 2 == 0 :\n",
        "    print(\"10초과 짝수\")\n",
        "  else:\n",
        "    print(\"10초과 홀수\")\n",
        "else:\n",
        "  print(\"10이하\")"
      ],
      "metadata": {
        "colab": {
          "base_uri": "https://localhost:8080/"
        },
        "id": "NI7nOhKTy12D",
        "outputId": "5c0600bf-a149-4f02-a90f-5fd3048264c1"
      },
      "execution_count": 7,
      "outputs": [
        {
          "output_type": "stream",
          "name": "stdout",
          "text": [
            "10초과 홀수\n"
          ]
        }
      ]
    },
    {
      "cell_type": "code",
      "source": [
        "userid = input(\"아이디를 입력하세요 :\")\n",
        "level = int(input(\"회원 레벨을 입력해 주세요 : \"))\n",
        "if userid == \"admin\" :\n",
        "    print(\"모든 콘텐츠 이용 가능\")\n",
        "elif 2<=level<=7 :\n",
        "    print(\"일부 콘텐츠 이용 가능\")\n",
        "else :\n",
        "      print(\"콘텐츠 이용 불가능\")\n",
        "\n",
        "\n"
      ],
      "metadata": {
        "colab": {
          "base_uri": "https://localhost:8080/"
        },
        "id": "8Ur41VtbzR5q",
        "outputId": "d7d5a932-12d3-4f85-c1f2-376153d63ca9"
      },
      "execution_count": 10,
      "outputs": [
        {
          "output_type": "stream",
          "name": "stdout",
          "text": [
            "아이디를 입력하세요 :WD\n",
            "회원 레벨을 입력해 주세요 : 7\n",
            "일부 콘텐츠 이용 가능\n"
          ]
        }
      ]
    },
    {
      "cell_type": "code",
      "source": [
        "pre_year = int(input(\"현재년을 입력해주세요:\"))\n",
        "pre_month = int(input(\"현재월을 입력해주세요:\"))\n",
        "pre_day = int(input(\"현재일을 입력해주세요:\"))\n",
        "year = int(input(\"출생년을 입력해주세요: \"))\n",
        "month =  int(input(\"출생월을 입력해주세요: \"))\n",
        "day =  int(input(\"출생일을 입력해주세요: \"))\n",
        "print(\"----------------------------------------\")\n",
        "print(\"오늘 날짜 : %d년 %d월 %d일\"%(pre_year, pre_month, pre_day))\n",
        "print(\"생년 월일 : %d년 %d월 %d일\"%(year, month, day))\n",
        "print(\"----------------------------------------\")\n",
        "if pre_month > month :\n",
        "  age = pre_year - year\n",
        "elif pre_month == month :\n",
        "  if day < pre_day :\n",
        "    age = pre_year - year\n",
        "  else:\n",
        "    age = pre_year - year-1\n",
        "else: \n",
        "  age = pre_year - year-1\n",
        "print(\"만 나이 : %d세\"%(age))\n",
        "print(\"----------------------------------------\")\n",
        "\n"
      ],
      "metadata": {
        "colab": {
          "base_uri": "https://localhost:8080/"
        },
        "id": "24DMdRKC0nAk",
        "outputId": "7a75d417-ffe0-4aab-b06d-12bab1de1947"
      },
      "execution_count": 13,
      "outputs": [
        {
          "output_type": "stream",
          "name": "stdout",
          "text": [
            "현재년을 입력해주세요:2020\n",
            "현재월을 입력해주세요:1\n",
            "현재일을 입력해주세요:27\n",
            "출생년을 입력해주세요: 1997\n",
            "출생월을 입력해주세요: 5\n",
            "출생일을 입력해주세요: 7\n",
            "----------------------------------------\n",
            "오늘 날짜 : 2020년 1월 27일\n",
            "생년 월일 : 1997'년 5월 7일\n",
            "----------------------------------------\n",
            "만 나이 : 22세\n",
            "----------------------------------------\n"
          ]
        }
      ]
    },
    {
      "cell_type": "markdown",
      "source": [
        "revise exam"
      ],
      "metadata": {
        "id": "Jt27xCP8-iv5"
      }
    },
    {
      "cell_type": "code",
      "source": [
        "import datetime\n",
        "\n",
        "now = datetime.datetime.now()\n",
        "print(now)\n",
        "print(now.year)\n",
        "print(now.month)\n",
        "print(now.day)\n",
        "print(now.hour)\n",
        "print(now.minute)\n",
        "print(now.second)"
      ],
      "metadata": {
        "colab": {
          "base_uri": "https://localhost:8080/"
        },
        "id": "ds1oLyGP-i5R",
        "outputId": "23ebbe29-6e23-4bbb-aedf-5de6cec23266"
      },
      "execution_count": 14,
      "outputs": [
        {
          "output_type": "stream",
          "name": "stdout",
          "text": [
            "2023-03-23 01:01:18.506418\n",
            "2023\n",
            "3\n",
            "23\n",
            "1\n",
            "1\n",
            "18\n"
          ]
        }
      ]
    },
    {
      "cell_type": "code",
      "source": [
        "import datetime\n",
        "now = datetime.datetime.now()\n",
        "if now.hour < 12 :\n",
        "  line = \"오전\"\n",
        "else :\n",
        "  line = \"오후\"\n",
        "print(\"현재 시간은 %d시 %d분으로 %s입니다.\"%(now.hour, now.minute, line))"
      ],
      "metadata": {
        "colab": {
          "base_uri": "https://localhost:8080/"
        },
        "id": "fZ0JcLwK_aR6",
        "outputId": "9913e4bd-78e8-4078-e96e-7b0e0dcc98b4"
      },
      "execution_count": 15,
      "outputs": [
        {
          "output_type": "stream",
          "name": "stdout",
          "text": [
            "현재 시간은 1시 6분으로 오전입니다.\n"
          ]
        }
      ]
    },
    {
      "cell_type": "code",
      "source": [
        "import datetime\n",
        "\n",
        "now = datetime.datetime.now()\n",
        "if 3<=now.month<=5 :\n",
        "  season = \"봄\"\n",
        "elif 6<=now.month<=8 :\n",
        "  season = \"여름\"\n",
        "elif 9<=now.month<=11 :\n",
        "  season = \"가을\"\n",
        "else : \n",
        "  season = \"겨울\"\n",
        "print(\"이번 달은 %d월로 %s입니다!\"%(now.month, season))\n",
        "\n",
        " \n"
      ],
      "metadata": {
        "colab": {
          "base_uri": "https://localhost:8080/"
        },
        "id": "mR1uVvZdAkAq",
        "outputId": "f7d7ccfa-9c19-40ae-f739-42eb2a46b348"
      },
      "execution_count": 16,
      "outputs": [
        {
          "output_type": "stream",
          "name": "stdout",
          "text": [
            "이번 달은 3월로 봄입니다!\n"
          ]
        }
      ]
    },
    {
      "cell_type": "code",
      "source": [
        "import random\n",
        "#0~1 사이 난수 발생\n",
        "print(random.random())\n",
        "#1~6 사이의 임의의 정수 발생\n",
        "print(random.randrange(1, 7))\n",
        "#1~6 사이 임의의 정수 발생\n",
        "print(random.randint(1, 6))\n",
        "#주어진 값들 중 하나만 뽑기\n",
        "print(random.choice([10, 20, 30]))"
      ],
      "metadata": {
        "colab": {
          "base_uri": "https://localhost:8080/"
        },
        "id": "L3OJ0uDiByXx",
        "outputId": "2f4d3cac-c77b-4c28-917a-a33af4474c81"
      },
      "execution_count": 18,
      "outputs": [
        {
          "output_type": "stream",
          "name": "stdout",
          "text": [
            "0.4038745736875716\n",
            "3\n",
            "4\n",
            "10\n"
          ]
        }
      ]
    },
    {
      "cell_type": "code",
      "source": [
        "import random\n",
        "time = random.randint(0, 24)\n",
        "weather = random.choice([True, False])\n",
        "print(\"좋은 아침입니다. 지금 시각은 %d시 입니다.\"%(time))\n",
        "if weather == True:\n",
        "  print(\"현재 날씨가 화창합니다.\")\n",
        "  if 6<=time<=8 :\n",
        "    bird = True\n",
        "  else :\n",
        "    bird = False\n",
        "else :\n",
        "  print(\"현재 날씨가 화창하지 않습니다.\")\n",
        "if bird == True :\n",
        "  print(\"종달새가 울고 있습니다.\")\n",
        "else :\n",
        "   print(\"종달새가 노래를 하지 않는다.\")\n",
        "\n",
        "\n",
        "\n",
        "\n"
      ],
      "metadata": {
        "id": "tnjxgHFOCmO4"
      },
      "execution_count": null,
      "outputs": []
    }
  ]
}