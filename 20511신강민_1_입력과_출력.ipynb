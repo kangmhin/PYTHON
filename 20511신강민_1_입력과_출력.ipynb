{
  "nbformat": 4,
  "nbformat_minor": 0,
  "metadata": {
    "colab": {
      "provenance": []
    },
    "kernelspec": {
      "name": "python3",
      "display_name": "Python 3"
    },
    "language_info": {
      "name": "python"
    }
  },
  "cells": [
    {
      "cell_type": "markdown",
      "source": [
        "1.입력과 출력"
      ],
      "metadata": {
        "id": "ABkWygq7tEKT"
      }
    },
    {
      "cell_type": "markdown",
      "source": [
        "page1"
      ],
      "metadata": {
        "id": "q377CwuFtJm6"
      }
    },
    {
      "cell_type": "code",
      "source": [
        "print(3+4)"
      ],
      "metadata": {
        "colab": {
          "base_uri": "https://localhost:8080/"
        },
        "id": "cWbhAnB7tMYq",
        "outputId": "40fbe364-421c-4253-d8b6-ff4650afbaca"
      },
      "execution_count": null,
      "outputs": [
        {
          "output_type": "stream",
          "name": "stdout",
          "text": [
            "7\n"
          ]
        }
      ]
    },
    {
      "cell_type": "code",
      "source": [
        "print(3+4)\n",
        "\n",
        "4*5\n",
        "a=1\n",
        "b=2\n",
        "print(a+b)"
      ],
      "metadata": {
        "colab": {
          "base_uri": "https://localhost:8080/"
        },
        "id": "hxjjLxLYtMdj",
        "outputId": "3c84a418-217c-4f0c-be19-5ce0f9abd400"
      },
      "execution_count": null,
      "outputs": [
        {
          "output_type": "stream",
          "name": "stdout",
          "text": [
            "7\n",
            "3\n"
          ]
        }
      ]
    },
    {
      "cell_type": "code",
      "source": [
        "a='강아지'\n",
        "b='고양이'\n",
        "print(a)\n",
        "print(b)"
      ],
      "metadata": {
        "colab": {
          "base_uri": "https://localhost:8080/"
        },
        "id": "9ensYMQItxK0",
        "outputId": "ce1cee8f-68e0-4869-fbea-9b228a1a8aa4"
      },
      "execution_count": null,
      "outputs": [
        {
          "output_type": "stream",
          "name": "stdout",
          "text": [
            "강아지\n",
            "고양이\n"
          ]
        }
      ]
    },
    {
      "cell_type": "code",
      "source": [
        "value = 1234\n",
        "print(value+100)"
      ],
      "metadata": {
        "colab": {
          "base_uri": "https://localhost:8080/"
        },
        "id": "LUkLOacct5hq",
        "outputId": "5bcab5d4-8498-4995-a4ec-959d3fca5043"
      },
      "execution_count": null,
      "outputs": [
        {
          "output_type": "stream",
          "name": "stdout",
          "text": [
            "1334\n"
          ]
        }
      ]
    },
    {
      "cell_type": "code",
      "source": [
        "4*5"
      ],
      "metadata": {
        "colab": {
          "base_uri": "https://localhost:8080/"
        },
        "id": "vfKWrP36uMaz",
        "outputId": "9a59bade-e163-4fc6-862f-2346cdcb990d"
      },
      "execution_count": null,
      "outputs": [
        {
          "output_type": "execute_result",
          "data": {
            "text/plain": [
              "20"
            ]
          },
          "metadata": {},
          "execution_count": 6
        }
      ]
    },
    {
      "cell_type": "code",
      "source": [
        "a='강아지 '\n",
        "b= '고양이'\n",
        "print(a, end = '')\n",
        "print(b)"
      ],
      "metadata": {
        "colab": {
          "base_uri": "https://localhost:8080/"
        },
        "id": "XvCHhY8VuTa7",
        "outputId": "e633b85c-2429-4e6e-aa8a-4192e20eb4e0"
      },
      "execution_count": null,
      "outputs": [
        {
          "output_type": "stream",
          "name": "stdout",
          "text": [
            "강아지 고양이\n"
          ]
        }
      ]
    },
    {
      "cell_type": "code",
      "source": [
        "print(34, end = '^^')\n",
        "print(78)"
      ],
      "metadata": {
        "colab": {
          "base_uri": "https://localhost:8080/"
        },
        "id": "zDCEUd80vcsk",
        "outputId": "a1ff47ad-0f7d-4957-dd2b-72a2f8ecc61c"
      },
      "execution_count": null,
      "outputs": [
        {
          "output_type": "stream",
          "name": "stdout",
          "text": [
            "34^^78\n"
          ]
        }
      ]
    },
    {
      "cell_type": "code",
      "source": [
        "a= 12\n",
        "b= 34\n",
        "print(a, b)\n"
      ],
      "metadata": {
        "colab": {
          "base_uri": "https://localhost:8080/"
        },
        "id": "iLSUuBjxviNT",
        "outputId": "c3bd11e0-1029-46d7-87b1-cfc6c891373b"
      },
      "execution_count": null,
      "outputs": [
        {
          "output_type": "stream",
          "name": "stdout",
          "text": [
            "12 34\n"
          ]
        }
      ]
    },
    {
      "cell_type": "code",
      "source": [
        "a= 12\n",
        "b= 34\n",
        "print(a, b, sep = ',')"
      ],
      "metadata": {
        "colab": {
          "base_uri": "https://localhost:8080/"
        },
        "id": "eJulpU0jv8Sk",
        "outputId": "26c962e7-b02d-41b2-cade-53721189914c"
      },
      "execution_count": null,
      "outputs": [
        {
          "output_type": "stream",
          "name": "stdout",
          "text": [
            "12,34\n"
          ]
        }
      ]
    },
    {
      "cell_type": "code",
      "source": [
        "s='서울'\n",
        "d= '대전'\n",
        "g= '대구'\n",
        "b= '부산'\n",
        "print(s, d, g, b, sep= ' 찍고 ', end= ' 찍고')"
      ],
      "metadata": {
        "colab": {
          "base_uri": "https://localhost:8080/"
        },
        "id": "fMmCAa7mwDly",
        "outputId": "53a5450c-349c-4927-9ad7-a375525868c8"
      },
      "execution_count": null,
      "outputs": [
        {
          "output_type": "stream",
          "name": "stdout",
          "text": [
            "서울 찍고 대전 찍고 대구 찍고 부산 찍고"
          ]
        }
      ]
    },
    {
      "cell_type": "code",
      "source": [
        "print(12, 34, 56, sep = '^^', end = '-->')\n",
        "print(78)"
      ],
      "metadata": {
        "colab": {
          "base_uri": "https://localhost:8080/"
        },
        "id": "IvLGIB5JwSxT",
        "outputId": "d1edebb8-73e7-4a1d-dc68-1af03cf14cbb"
      },
      "execution_count": null,
      "outputs": [
        {
          "output_type": "stream",
          "name": "stdout",
          "text": [
            "12^^34^^56-->78\n"
          ]
        }
      ]
    },
    {
      "cell_type": "code",
      "source": [
        "a= 13\n",
        "b= 21\n",
        "print(a, b)\n",
        "print(a+ b)\n",
        "print(a, b, sep = \"\")\n",
        "print(a, b, end= \"\")"
      ],
      "metadata": {
        "colab": {
          "base_uri": "https://localhost:8080/"
        },
        "id": "UDAULQQ9wbib",
        "outputId": "a67965fe-9c0b-4ae8-c418-3590b5a94a42"
      },
      "execution_count": null,
      "outputs": [
        {
          "output_type": "stream",
          "name": "stdout",
          "text": [
            "13 21\n",
            "34\n",
            "1321\n",
            "13 21"
          ]
        }
      ]
    },
    {
      "cell_type": "markdown",
      "source": [
        "변수 = input( '질문 내용')\n"
      ],
      "metadata": {
        "id": "1x_8UUG4wzlj"
      }
    },
    {
      "cell_type": "code",
      "source": [
        "age= input('몇 살이세요?')\n",
        "print(age)"
      ],
      "metadata": {
        "colab": {
          "base_uri": "https://localhost:8080/"
        },
        "id": "N6gEjjBjxAmD",
        "outputId": "bacf0416-aec9-40f6-9c9c-81aa9cbedfd2"
      },
      "execution_count": null,
      "outputs": [
        {
          "output_type": "stream",
          "name": "stdout",
          "text": [
            "몇 살이세요?19\n",
            "19\n"
          ]
        }
      ]
    },
    {
      "cell_type": "code",
      "source": [
        "name = input('이름 : ')\n",
        "print('안녕하세요', name, '님!')"
      ],
      "metadata": {
        "colab": {
          "base_uri": "https://localhost:8080/"
        },
        "id": "k45eNNIVxEoU",
        "outputId": "720650a8-8e2c-45ef-f9e1-b598d732b88f"
      },
      "execution_count": null,
      "outputs": [
        {
          "output_type": "stream",
          "name": "stdout",
          "text": [
            "이름 : 신강민\n",
            "안녕하세요 신강민 님!\n"
          ]
        }
      ]
    },
    {
      "cell_type": "code",
      "source": [
        "fruit1 = input('첫 번째 과일 입력 : ')\n",
        "fruit2 = input('두 번째 과일 입력 : ')\n",
        "print(fruit1,'와(과)',fruit2,'은(는) 내가 좋아하는 과일이다. ')"
      ],
      "metadata": {
        "colab": {
          "base_uri": "https://localhost:8080/"
        },
        "id": "HZhQ_-63xD9D",
        "outputId": "9fc31d61-3f4f-4cff-b4dc-c1014af16b64"
      },
      "execution_count": null,
      "outputs": [
        {
          "output_type": "stream",
          "name": "stdout",
          "text": [
            "첫 번째 과일 입력 : 사과\n",
            "두 번째 과일 입력 : 수박\n",
            "사과 와(과) 수박 은(는) 내가 좋아하는 과일이다. \n"
          ]
        }
      ]
    },
    {
      "cell_type": "code",
      "source": [
        "year = input('몇 년도? ')\n",
        "month = input('몇 월? ' )\n",
        "day = input('몇 일? ')\n",
        "print(year, month, day, sep= '. ')"
      ],
      "metadata": {
        "colab": {
          "base_uri": "https://localhost:8080/"
        },
        "id": "6TyPfE-yyFD7",
        "outputId": "7409cd6a-5164-4550-92bf-d8246b13b998"
      },
      "execution_count": null,
      "outputs": [
        {
          "output_type": "stream",
          "name": "stdout",
          "text": [
            "몇 년도? 2021\n",
            "몇 월? 12\n",
            "몇 일? 25\n",
            "2021. 12. 25\n"
          ]
        }
      ]
    },
    {
      "cell_type": "code",
      "source": [
        "age= input('몇 살이세요? ')\n",
        "print(age+age)"
      ],
      "metadata": {
        "colab": {
          "base_uri": "https://localhost:8080/"
        },
        "id": "cMD0NXsXyvZL",
        "outputId": "e1ac1273-279c-44d2-ddb3-d22b585b8d2b"
      },
      "execution_count": null,
      "outputs": [
        {
          "output_type": "stream",
          "name": "stdout",
          "text": [
            "몇 살이세요? 28\n",
            "2828\n"
          ]
        }
      ]
    },
    {
      "cell_type": "markdown",
      "source": [
        "input 함수로 입력받은 값은 항상 문자열이다."
      ],
      "metadata": {
        "id": "O_TxSm5by3I1"
      }
    },
    {
      "cell_type": "code",
      "source": [
        "age= input('몇 살이세요? ')\n",
        "age= int(age)\n",
        "print(age + age)\n"
      ],
      "metadata": {
        "colab": {
          "base_uri": "https://localhost:8080/"
        },
        "id": "LtLHz98xy8Dk",
        "outputId": "2c413cb2-60c9-4caa-8f6e-d62d068fc803"
      },
      "execution_count": null,
      "outputs": [
        {
          "output_type": "stream",
          "name": "stdout",
          "text": [
            "몇 살이세요? 28\n",
            "56\n"
          ]
        }
      ]
    },
    {
      "cell_type": "code",
      "source": [
        "price = int(input('가격을 입력하세요 : '))\n",
        "num = int(input('개수를 입력하세요 : '))\n",
        "sum = price * num\n",
        "print('총액은', sum, '원입니다')"
      ],
      "metadata": {
        "colab": {
          "base_uri": "https://localhost:8080/"
        },
        "id": "cYdwpfKvzPET",
        "outputId": "c297c3c0-a754-41eb-ec66-76255b8e1267"
      },
      "execution_count": null,
      "outputs": [
        {
          "output_type": "stream",
          "name": "stdout",
          "text": [
            "가격을 입력하세요 : 100\n",
            "개수를 입력하세요 : 5\n",
            "총액은 500 원입니다\n"
          ]
        }
      ]
    },
    {
      "cell_type": "markdown",
      "source": [
        "변수 = int(input('질문 내용'))"
      ],
      "metadata": {
        "id": "y9zqD8N-z9r7"
      }
    },
    {
      "cell_type": "code",
      "source": [
        "width = int(input('사각형의 가로 : '))\n",
        "height = int(input('사각형의 세로 : '))\n",
        "print('사각형의 면적은', width * height,'입니다.')"
      ],
      "metadata": {
        "colab": {
          "base_uri": "https://localhost:8080/"
        },
        "id": "vOCn4P8D0DJb",
        "outputId": "92c8d695-fb5f-4546-fc21-1fa638ba4dbe"
      },
      "execution_count": null,
      "outputs": [
        {
          "output_type": "stream",
          "name": "stdout",
          "text": [
            "사각형의 가로 : 5\n",
            "사각형의 세로 : 10\n",
            "사각형의 면적은 50 입니다.\n"
          ]
        }
      ]
    },
    {
      "cell_type": "code",
      "source": [
        "name= input('이름? ')\n",
        "born_year= int(input('태어난 해는? '))\n",
        "print(name, '님의 나이는', 2023-born_year, '입니다.')"
      ],
      "metadata": {
        "colab": {
          "base_uri": "https://localhost:8080/"
        },
        "id": "jLXdHTte0jzl",
        "outputId": "f146031a-3655-4836-d245-559ed5cfdd75"
      },
      "execution_count": null,
      "outputs": [
        {
          "output_type": "stream",
          "name": "stdout",
          "text": [
            "이름? 정수\n",
            "태어난 해는? 2002\n",
            "정수 님의 나이는 21 입니다.\n"
          ]
        }
      ]
    },
    {
      "cell_type": "code",
      "source": [
        "price = int(input('물건의 가격? :'))\n",
        "number = int(input('물건 구매 개수? :'))\n",
        "pay_money = int(input('지불한 돈 ? : '))\n",
        "print('거스름돈은', pay_money-(price*number), '원입니다.')"
      ],
      "metadata": {
        "colab": {
          "base_uri": "https://localhost:8080/"
        },
        "id": "qpv243BM0kvs",
        "outputId": "ad6ca90a-43e0-4698-bc65-822a3c4cc118"
      },
      "execution_count": null,
      "outputs": [
        {
          "output_type": "stream",
          "name": "stdout",
          "text": [
            "물건의 가격? :500\n",
            "물건 구매 개수? :4\n",
            "지불한 돈 ? : 5000\n",
            "거스름돈은 3000 원입니다.\n"
          ]
        }
      ]
    },
    {
      "cell_type": "markdown",
      "source": [
        "등호 ( = )는 '할당연산자'라 부르며 '같다'란 의미가 아니라 '우측의 데이터를 좌측 변수에 저장하는것이다."
      ],
      "metadata": {
        "id": "RDD_JJwb139E"
      }
    },
    {
      "cell_type": "markdown",
      "source": [
        "변수명 규칙\n",
        "1.키워드는 사용할 수 없다.\n",
        "2.내장 함수나 표준 모듈명도 쓰지 않는 것이 좋다.\n",
        "3.모든 명칭은 대소문자를 구별한다.\n",
        "4.알파벳, 밑줄 문자, 숫자로 구성된다. 공백이나 +, -, # 등 특수문자들은 사용할 수 없다.\n",
        "5.첫 글자로 숫자는 쓸 수 없다.\n",
        "6.가급적 영어 단어로 붙이는 것이 좋다.\n"
      ],
      "metadata": {
        "id": "pKswNhMW2Kbl"
      }
    },
    {
      "cell_type": "markdown",
      "source": [
        "자료형 확인하기 (type)"
      ],
      "metadata": {
        "id": "4wRpyivu2Kfk"
      }
    },
    {
      "cell_type": "code",
      "source": [
        "print(type('안녕하세요'))\n",
        "print(type(273))\n",
        "print(type(3.141592))"
      ],
      "metadata": {
        "colab": {
          "base_uri": "https://localhost:8080/"
        },
        "id": "U5NCID330j4N",
        "outputId": "4a800124-ebe2-44f8-c3af-4d492e257831"
      },
      "execution_count": null,
      "outputs": [
        {
          "output_type": "stream",
          "name": "stdout",
          "text": [
            "<class 'str'>\n",
            "<class 'int'>\n",
            "<class 'float'>\n"
          ]
        }
      ]
    },
    {
      "cell_type": "code",
      "source": [
        "score = 100\n",
        "print(score)\n",
        "print(type(score))"
      ],
      "metadata": {
        "colab": {
          "base_uri": "https://localhost:8080/"
        },
        "id": "yaNYVgMZ25b8",
        "outputId": "f0637776-c123-4680-d855-11c22245f35d"
      },
      "execution_count": null,
      "outputs": [
        {
          "output_type": "stream",
          "name": "stdout",
          "text": [
            "100\n",
            "<class 'int'>\n"
          ]
        }
      ]
    },
    {
      "cell_type": "code",
      "source": [
        "score = 'high'\n",
        "print(score)\n",
        "print(type (score))"
      ],
      "metadata": {
        "colab": {
          "base_uri": "https://localhost:8080/"
        },
        "id": "jfK_EbT1LbuZ",
        "outputId": "9387b77f-9f15-4565-b860-2daa105a5990"
      },
      "execution_count": null,
      "outputs": [
        {
          "output_type": "stream",
          "name": "stdout",
          "text": [
            "high\n",
            "<class 'str'>\n"
          ]
        }
      ]
    },
    {
      "cell_type": "code",
      "source": [
        "num=123456789\n",
        "print(num)\n",
        "print(type(num))"
      ],
      "metadata": {
        "colab": {
          "base_uri": "https://localhost:8080/"
        },
        "id": "7OA_K-Hk25gn",
        "outputId": "6c63aee8-e6a8-4464-a8d8-474cdf4ffb0e"
      },
      "execution_count": null,
      "outputs": [
        {
          "output_type": "stream",
          "name": "stdout",
          "text": [
            "123456789\n",
            "<class 'int'>\n"
          ]
        }
      ]
    },
    {
      "cell_type": "code",
      "source": [
        "num = -20909\n",
        "print(num)\n",
        "print(type(num))"
      ],
      "metadata": {
        "colab": {
          "base_uri": "https://localhost:8080/"
        },
        "id": "GRNfEgDt25is",
        "outputId": "28671c36-474c-446b-b2a4-05cfd7f28076"
      },
      "execution_count": null,
      "outputs": [
        {
          "output_type": "stream",
          "name": "stdout",
          "text": [
            "-20909\n",
            "<class 'int'>\n"
          ]
        }
      ]
    },
    {
      "cell_type": "code",
      "source": [
        "a= 1.5\n",
        "b= -3.5\n",
        "print(a, b)\n",
        "print(type(a), type(b))"
      ],
      "metadata": {
        "colab": {
          "base_uri": "https://localhost:8080/"
        },
        "id": "ktb1cDTK25ky",
        "outputId": "6ce032a1-d1ab-4219-c6ac-836f41a53df6"
      },
      "execution_count": null,
      "outputs": [
        {
          "output_type": "stream",
          "name": "stdout",
          "text": [
            "1.5 -3.5\n",
            "<class 'float'> <class 'float'>\n"
          ]
        }
      ]
    },
    {
      "cell_type": "code",
      "source": [
        "x= 3.3764\n",
        "y= 6/2\n",
        "print(x, y)\n",
        "print(type(x), type(y))"
      ],
      "metadata": {
        "colab": {
          "base_uri": "https://localhost:8080/"
        },
        "id": "xRksjD0S3im0",
        "outputId": "d212ef66-537e-4966-d68f-b1f631c8b362"
      },
      "execution_count": null,
      "outputs": [
        {
          "output_type": "stream",
          "name": "stdout",
          "text": [
            "3.3764 3.0\n",
            "<class 'float'> <class 'float'>\n"
          ]
        }
      ]
    },
    {
      "cell_type": "code",
      "source": [
        "a= \"Korea 서울 1234\"\n",
        "print(a)\n",
        "print(type(a))"
      ],
      "metadata": {
        "colab": {
          "base_uri": "https://localhost:8080/"
        },
        "id": "oqtTd-2W3t1M",
        "outputId": "a241fd96-7ec1-4c7a-9f03-53e8a44d3d8d"
      },
      "execution_count": null,
      "outputs": [
        {
          "output_type": "stream",
          "name": "stdout",
          "text": [
            "Korea 서울 1234\n",
            "<class 'str'>\n"
          ]
        }
      ]
    },
    {
      "cell_type": "code",
      "source": [
        "a= 30\n",
        "print(a)\n",
        "print(type(a))\n",
        "\n",
        "\n",
        "b= '30'\n",
        "print(b)\n",
        "print(type(b))"
      ],
      "metadata": {
        "colab": {
          "base_uri": "https://localhost:8080/"
        },
        "id": "r_mtpdct31sE",
        "outputId": "6ed9ec1d-9377-42c4-9e3e-7b0bb8c88b66"
      },
      "execution_count": null,
      "outputs": [
        {
          "output_type": "stream",
          "name": "stdout",
          "text": [
            "30\n",
            "<class 'int'>\n",
            "30\n",
            "<class 'str'>\n"
          ]
        }
      ]
    },
    {
      "cell_type": "markdown",
      "source": [
        "문자열을 감싸는 기호인 따옴표는 따옴표 안에 적을 수 없다.\n"
      ],
      "metadata": {
        "id": "GzfkfJuM4EZz"
      }
    },
    {
      "cell_type": "code",
      "source": [
        "a=5\n",
        "b=a==5\n",
        "print(b)"
      ],
      "metadata": {
        "colab": {
          "base_uri": "https://localhost:8080/"
        },
        "id": "mbp6zskU31uU",
        "outputId": "729559d9-20d5-40d3-abe4-e0cbaf64358e"
      },
      "execution_count": null,
      "outputs": [
        {
          "output_type": "stream",
          "name": "stdout",
          "text": [
            "True\n"
          ]
        }
      ]
    },
    {
      "cell_type": "code",
      "source": [
        "if a==5:\n",
        "  print(\"a는 5\")"
      ],
      "metadata": {
        "colab": {
          "base_uri": "https://localhost:8080/"
        },
        "id": "PqZUGFKB31wk",
        "outputId": "22ebd415-3dc4-403b-9054-e1b1b79bcf80"
      },
      "execution_count": null,
      "outputs": [
        {
          "output_type": "stream",
          "name": "stdout",
          "text": [
            "a는 5\n"
          ]
        }
      ]
    },
    {
      "cell_type": "code",
      "source": [
        "a= input('첫번째숫자를입력하세요 : ')\n",
        "b= input('두번째숫자를입력하세요 : ')\n",
        "c= a + b\n",
        "print(c)"
      ],
      "metadata": {
        "colab": {
          "base_uri": "https://localhost:8080/"
        },
        "id": "dD4M2dv231yb",
        "outputId": "003c8fb5-5e57-4a67-a74c-bab48a98b5e1"
      },
      "execution_count": null,
      "outputs": [
        {
          "output_type": "stream",
          "name": "stdout",
          "text": [
            "첫번째숫자를입력하세요 : 100\n",
            "두번째숫자를입력하세요 : 200\n",
            "100200\n"
          ]
        }
      ]
    },
    {
      "cell_type": "code",
      "source": [
        "a= input('첫번째숫자를입력하세요 : ')\n",
        "b= input('두번째숫자를입력하세요 : ')\n",
        "c= int(a) + int(b)\n",
        "print(c)"
      ],
      "metadata": {
        "colab": {
          "base_uri": "https://localhost:8080/"
        },
        "id": "YbhoilwQ4ue0",
        "outputId": "70e17520-94f0-4c98-de7d-194bfd7929df"
      },
      "execution_count": null,
      "outputs": [
        {
          "output_type": "stream",
          "name": "stdout",
          "text": [
            "첫번째숫자를입력하세요 : 100\n",
            "두번째숫자를입력하세요 : 200\n",
            "300\n"
          ]
        }
      ]
    },
    {
      "cell_type": "code",
      "source": [
        "inch = float(input('인치를 입력하세요 : '))\n",
        "print('센티미터: ', inch* 2.54)\n"
      ],
      "metadata": {
        "colab": {
          "base_uri": "https://localhost:8080/"
        },
        "id": "GrIi0qBi44m0",
        "outputId": "40164de7-5fb0-4dd1-9e55-90621f67d905"
      },
      "execution_count": null,
      "outputs": [
        {
          "output_type": "stream",
          "name": "stdout",
          "text": [
            "인치를 입력하세요 : 3.5\n",
            "센티미터:  8.89\n"
          ]
        }
      ]
    },
    {
      "cell_type": "code",
      "source": [
        "r = int(input('반지름은? : '))\n",
        "length= 2*3.14 *r\n",
        "area= 3.14*r*r\n",
        "print(f\"반지름이 {r}인 원의 둘레는 {length: .2f}이고, 면적은 {area}이다.\")\n",
        "print(\"반지름이 %d인 원의 둘레는 %.2f이고, 면적은 %.2f이다\"%(r, length, area))"
      ],
      "metadata": {
        "colab": {
          "base_uri": "https://localhost:8080/"
        },
        "id": "_jy80kAy5Sys",
        "outputId": "03d448f3-14e4-4295-f4eb-bf8f34f2529f"
      },
      "execution_count": null,
      "outputs": [
        {
          "output_type": "stream",
          "name": "stdout",
          "text": [
            "반지름은? : 7\n",
            "반지름이 7인 원의 둘레는  43.96이고, 면적은 153.86이다.\n",
            "반지름이 7인 원의 둘레는 43.96이고, 면적은 153.86이다\n"
          ]
        }
      ]
    },
    {
      "cell_type": "code",
      "source": [
        "height= int(input('현재 키는? '))\n",
        "aim_height= int(input('5개월 후의 목표 키는? '))\n",
        "print('한달에', (aim_height-height)/5, '씩 성장해 보세요!')"
      ],
      "metadata": {
        "colab": {
          "base_uri": "https://localhost:8080/"
        },
        "id": "u6ainJQt654O",
        "outputId": "8da0aeda-ebc1-4d06-dea8-2107dafcf52d"
      },
      "execution_count": null,
      "outputs": [
        {
          "output_type": "stream",
          "name": "stdout",
          "text": [
            "현재 키는? 160\n",
            "5개월 후의 목표 키는? 168\n",
            "한달에 1.6 씩 성장해 보세요!\n"
          ]
        }
      ]
    },
    {
      "cell_type": "code",
      "source": [
        "book = int(input('책 값 : '))\n",
        "discount = float(input('할인율(%) : '))\n",
        "discount = 0.01*discount\n",
        "delivery = int(input('배송비 : '))\n",
        "\n",
        "print('결제하실 금액은', book-(book*discount)+delivery, '원 입니다.')"
      ],
      "metadata": {
        "colab": {
          "base_uri": "https://localhost:8080/"
        },
        "id": "BqtB0UZH64Vs",
        "outputId": "a4b65fda-7dff-4da0-e61d-8044a9c16919"
      },
      "execution_count": null,
      "outputs": [
        {
          "output_type": "stream",
          "name": "stdout",
          "text": [
            "책 값 : 3000\n",
            "할인율(%) : 20\n",
            "배송비 : 3000\n",
            "결제하실 금액은 5400.0 원 입니다.\n"
          ]
        }
      ]
    },
    {
      "cell_type": "code",
      "source": [
        "subject1 = int(input('첫 번째 과목: '))\n",
        "subject2 = int(input('두 번째 과목: '))\n",
        "print('합계:', subject1+subject2, '평균:', (subject1+subject2)/2.0)"
      ],
      "metadata": {
        "colab": {
          "base_uri": "https://localhost:8080/"
        },
        "id": "n3y8heY664cM",
        "outputId": "aa95cb0e-f5c9-4720-f35a-e6b0e9d40d05"
      },
      "execution_count": null,
      "outputs": [
        {
          "output_type": "stream",
          "name": "stdout",
          "text": [
            "첫 번째 과목: 80\n",
            "두 번째 과목: 96\n",
            "합계: 176 평균: 88.0\n"
          ]
        }
      ]
    },
    {
      "cell_type": "code",
      "source": [
        "below = int(input('삼각형의 밑변 길이 : '))\n",
        "height = int(input('삼각형의 높이 : '))\n",
        "print('삼각형의 면적 : ', below*height/2.0)"
      ],
      "metadata": {
        "colab": {
          "base_uri": "https://localhost:8080/"
        },
        "id": "NLt8lKke64ek",
        "outputId": "af68185f-ade9-4f85-a518-95db9d524aa3"
      },
      "execution_count": null,
      "outputs": [
        {
          "output_type": "stream",
          "name": "stdout",
          "text": [
            "삼각형의 밑변 길이 : 10\n",
            "삼각형의 높이 : 3\n",
            "삼각형의 면적 :  15.0\n"
          ]
        }
      ]
    },
    {
      "cell_type": "code",
      "source": [
        "kg = float(input('킬로그램(kg) 입력: '))\n",
        "print(kg, 'kg은', kg*2.2046, '파운드 입니다.')"
      ],
      "metadata": {
        "colab": {
          "base_uri": "https://localhost:8080/"
        },
        "id": "HrCraChp64gw",
        "outputId": "ae6d71eb-6083-467c-a975-fe76bfe10598"
      },
      "execution_count": null,
      "outputs": [
        {
          "output_type": "stream",
          "name": "stdout",
          "text": [
            "킬로그램(kg) 입력: 30.5\n",
            "30.5 kg은 67.2403 파운드 입니다.\n"
          ]
        }
      ]
    },
    {
      "cell_type": "code",
      "source": [
        "print(5*2)\n",
        "print(5-2)\n",
        "print(5*2)\n",
        "print(5/2)\n",
        "print(5**2)\n",
        "print(5%2)"
      ],
      "metadata": {
        "colab": {
          "base_uri": "https://localhost:8080/"
        },
        "id": "byIMuMRsA_bF",
        "outputId": "6025e476-774a-49ef-8c77-f1d24be5bca7"
      },
      "execution_count": null,
      "outputs": [
        {
          "output_type": "stream",
          "name": "stdout",
          "text": [
            "10\n",
            "3\n",
            "10\n",
            "2.5\n",
            "25\n",
            "1\n"
          ]
        }
      ]
    },
    {
      "cell_type": "code",
      "source": [
        "x =10 %3\n",
        "print(x)\n",
        "y= 7/3\n",
        "print(y)"
      ],
      "metadata": {
        "colab": {
          "base_uri": "https://localhost:8080/"
        },
        "id": "3wvUrDTcDlK_",
        "outputId": "dc42e17d-7b02-41ad-cd70-b8a7d90906c5"
      },
      "execution_count": null,
      "outputs": [
        {
          "output_type": "stream",
          "name": "stdout",
          "text": [
            "1\n",
            "2.3333333333333335\n"
          ]
        }
      ]
    },
    {
      "cell_type": "code",
      "source": [
        "a=10\n",
        "b=20\n",
        "c=a+b *10 - 5/5\n",
        "print(c)"
      ],
      "metadata": {
        "colab": {
          "base_uri": "https://localhost:8080/"
        },
        "id": "vzJrP1dbDrAn",
        "outputId": "eaeab9cd-4730-4de5-9877-b722c62cc42b"
      },
      "execution_count": null,
      "outputs": [
        {
          "output_type": "stream",
          "name": "stdout",
          "text": [
            "209.0\n"
          ]
        }
      ]
    },
    {
      "cell_type": "code",
      "source": [
        "x= 2**3\n",
        "print(x)\n",
        "y = 10**4\n",
        "print(y)"
      ],
      "metadata": {
        "colab": {
          "base_uri": "https://localhost:8080/"
        },
        "id": "IKHRyXUSEov3",
        "outputId": "495f6dd1-53c3-427f-f3be-f5a851d38a98"
      },
      "execution_count": null,
      "outputs": [
        {
          "output_type": "stream",
          "name": "stdout",
          "text": [
            "8\n",
            "10000\n"
          ]
        }
      ]
    },
    {
      "cell_type": "code",
      "source": [
        "hello = '안녕' * 5\n",
        "print(hello)"
      ],
      "metadata": {
        "colab": {
          "base_uri": "https://localhost:8080/"
        },
        "id": "se-b6iehED0l",
        "outputId": "c2d7a119-2656-4321-fc02-e2c10df5c54b"
      },
      "execution_count": null,
      "outputs": [
        {
          "output_type": "stream",
          "name": "stdout",
          "text": [
            "안녕안녕안녕안녕안녕\n"
          ]
        }
      ]
    },
    {
      "cell_type": "code",
      "source": [
        "s1= \"대한민국\"\n",
        "s2= \"만세\"\n",
        "print(s1+s2)\n",
        "print(s1 *5)\n"
      ],
      "metadata": {
        "colab": {
          "base_uri": "https://localhost:8080/"
        },
        "id": "svmD0e_6ED26",
        "outputId": "e0b612fa-641e-4b30-8948-2fe28e42c623"
      },
      "execution_count": null,
      "outputs": [
        {
          "output_type": "stream",
          "name": "stdout",
          "text": [
            "대한민국만세\n",
            "대한민국대한민국대한민국대한민국대한민국\n"
          ]
        }
      ]
    },
    {
      "cell_type": "code",
      "source": [
        "print(\"korea\"+ str(2021))\n",
        "print(10+int(\"22\"))\n",
        "print(10+ int(22.5))\n",
        "print(10+ int(float(22.5)))\n",
        "print(\"korea\" + str(2021))"
      ],
      "metadata": {
        "colab": {
          "base_uri": "https://localhost:8080/"
        },
        "id": "k1R3akmvED6d",
        "outputId": "2acac04d-c6d6-4599-911e-7e56e228cc56"
      },
      "execution_count": null,
      "outputs": [
        {
          "output_type": "stream",
          "name": "stdout",
          "text": [
            "korea2021\n",
            "32\n",
            "32\n",
            "32\n",
            "korea2021\n"
          ]
        }
      ]
    },
    {
      "cell_type": "code",
      "source": [
        "x= 10\n",
        "x+=20\n",
        "print(x)"
      ],
      "metadata": {
        "colab": {
          "base_uri": "https://localhost:8080/"
        },
        "id": "SS4ZL3lhED9K",
        "outputId": "1066d7e3-871d-4fc8-8586-5a6cda6f75b8"
      },
      "execution_count": null,
      "outputs": [
        {
          "output_type": "stream",
          "name": "stdout",
          "text": [
            "30\n"
          ]
        }
      ]
    },
    {
      "cell_type": "code",
      "source": [
        "a=5\n",
        "a=a+1\n",
        "print(a)\n",
        "\n",
        "a=5\n",
        "a+=1\n",
        "print(a)\n",
        "\n",
        "a-=5\n",
        "print(a)\n",
        "\n",
        "a*=2\n",
        "print(a)"
      ],
      "metadata": {
        "colab": {
          "base_uri": "https://localhost:8080/"
        },
        "id": "a3yWkqlWFk4e",
        "outputId": "b7fb1405-da9d-483f-c806-2dca060917c8"
      },
      "execution_count": null,
      "outputs": [
        {
          "output_type": "stream",
          "name": "stdout",
          "text": [
            "6\n",
            "6\n",
            "1\n",
            "2\n"
          ]
        }
      ]
    },
    {
      "cell_type": "code",
      "source": [
        "x= 3\n",
        "y= 5\n",
        "x *= x+y\n",
        "print(x)"
      ],
      "metadata": {
        "colab": {
          "base_uri": "https://localhost:8080/"
        },
        "id": "cPjKweG8FyoF",
        "outputId": "dfab78ba-e519-41dd-e6f7-38e474acaf87"
      },
      "execution_count": null,
      "outputs": [
        {
          "output_type": "stream",
          "name": "stdout",
          "text": [
            "24\n"
          ]
        }
      ]
    },
    {
      "cell_type": "code",
      "source": [
        "money = int(input('투입한 돈 : '))\n",
        "price = int(input('물건 값 : '))\n",
        "change = money-price\n",
        "print('거스름돈 : ', change)\n",
        "print('500원 동전의 개수 : ', change//500)\n",
        "print('100원 동전의 개수 : ', (change%500)//100)"
      ],
      "metadata": {
        "colab": {
          "base_uri": "https://localhost:8080/"
        },
        "id": "h-_vgItTIAsf",
        "outputId": "03dc7b32-e3a0-4926-96a9-5d1af741ce5e"
      },
      "execution_count": null,
      "outputs": [
        {
          "output_type": "stream",
          "name": "stdout",
          "text": [
            "투입한 돈 : 2500\n",
            "물건 값 : 300\n",
            "거스름돈 :  2200\n",
            "500원 동전의 개수 :  4\n",
            "100원 동전의 개수 :  2\n"
          ]
        }
      ]
    }
  ]
}