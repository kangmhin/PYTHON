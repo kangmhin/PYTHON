{
  "nbformat": 4,
  "nbformat_minor": 0,
  "metadata": {
    "colab": {
      "provenance": []
    },
    "kernelspec": {
      "name": "python3",
      "display_name": "Python 3"
    },
    "language_info": {
      "name": "python"
    }
  },
  "cells": [
    {
      "cell_type": "markdown",
      "source": [
        "19 page\n",
        "#ex16)"
      ],
      "metadata": {
        "id": "7kaF0ZL30KGW"
      }
    },
    {
      "cell_type": "code",
      "source": [
        "#피보나치 수열\n",
        "a= 0\n",
        "b= 1\n",
        "for i in range(20):\n",
        "  print(a, end = ' ')\n",
        "  n= a+b\n",
        "  a=b\n",
        "  b=n\n"
      ],
      "metadata": {
        "colab": {
          "base_uri": "https://localhost:8080/"
        },
        "id": "7tUN2adi0PNF",
        "outputId": "8d744724-971a-4750-8154-ef7726ce4435"
      },
      "execution_count": 3,
      "outputs": [
        {
          "output_type": "stream",
          "name": "stdout",
          "text": [
            "0 1 1 2 3 5 8 13 21 34 55 89 144 233 377 610 987 1597 2584 4181 "
          ]
        }
      ]
    },
    {
      "cell_type": "code",
      "source": [
        "#ex17\n",
        "for x in range(1, 41):\n",
        "  if x%10==0:\n",
        "    print('+', end = '')\n",
        "  else:\n",
        "    print('-', end= '')"
      ],
      "metadata": {
        "colab": {
          "base_uri": "https://localhost:8080/"
        },
        "id": "_8VsK6tm4Ehc",
        "outputId": "1c67372e-abe4-4977-b5f8-20585aa936ef"
      },
      "execution_count": 6,
      "outputs": [
        {
          "output_type": "stream",
          "name": "stdout",
          "text": [
            "---------+---------+---------+---------+"
          ]
        }
      ]
    },
    {
      "cell_type": "code",
      "source": [
        "#ex18\n",
        "x = 1\n",
        "while x<41:\n",
        "    if x%10==0:\n",
        "      print('+', end ='')\n",
        "    else:\n",
        "      print('-', end='')\n",
        "    x+=1"
      ],
      "metadata": {
        "colab": {
          "base_uri": "https://localhost:8080/"
        },
        "id": "b9lDzALi4npN",
        "outputId": "594dc920-c36d-43ed-c555-5e59fd0546f6"
      },
      "execution_count": 1,
      "outputs": [
        {
          "output_type": "stream",
          "name": "stdout",
          "text": [
            "---------+---------+---------+---------+"
          ]
        }
      ]
    },
    {
      "cell_type": "code",
      "source": [
        "print('-'*40)\n",
        "print(\"센치(cm) 인치(inch) 피트(ft) 야드(yd)\")\n",
        "print('-'*40)\n",
        "for cm in range(10, 101, 10):\n",
        "  inch= cm*0.393701\n",
        "  ft = cm*0.032808\n",
        "  yd= cm *0.010936\n",
        "  print(\"%7d %8.1f %8.1f %8.1f\"%(cm, inch, ft, yd))\n",
        "print('-'*40)"
      ],
      "metadata": {
        "colab": {
          "base_uri": "https://localhost:8080/"
        },
        "id": "5EBcIiNH5v67",
        "outputId": "80f30466-6dbd-4106-ae68-0195a9803cf7"
      },
      "execution_count": 4,
      "outputs": [
        {
          "output_type": "stream",
          "name": "stdout",
          "text": [
            "----------------------------------------\n",
            "센치(cm) 인치(inch) 피트(ft) 야드(yd)\n",
            "----------------------------------------\n",
            "     10      3.9      0.3      0.1\n",
            "     20      7.9      0.7      0.2\n",
            "     30     11.8      1.0      0.3\n",
            "     40     15.7      1.3      0.4\n",
            "     50     19.7      1.6      0.5\n",
            "     60     23.6      2.0      0.7\n",
            "     70     27.6      2.3      0.8\n",
            "     80     31.5      2.6      0.9\n",
            "     90     35.4      3.0      1.0\n",
            "    100     39.4      3.3      1.1\n",
            "----------------------------------------\n"
          ]
        }
      ]
    },
    {
      "cell_type": "code",
      "source": [
        "#ex20\n",
        "for i in range(1, 1001):\n",
        "  print(i, end = ' ')\n",
        "  if i == 10:\n",
        "    break"
      ],
      "metadata": {
        "colab": {
          "base_uri": "https://localhost:8080/"
        },
        "id": "LlFAYyGa69Vk",
        "outputId": "41094fc4-da7c-4812-8833-38c75a8430e4"
      },
      "execution_count": 5,
      "outputs": [
        {
          "output_type": "stream",
          "name": "stdout",
          "text": [
            "1 2 3 4 5 6 7 8 9 10 "
          ]
        }
      ]
    },
    {
      "cell_type": "code",
      "source": [
        "#ex21\n",
        "score = [92, 86, 68, 120, 56, 72]\n",
        "for i in range(len(score)):\n",
        "  if score[i]>100 or score[i]<0 :\n",
        "    break\n",
        "  print(score[i])\n",
        "print(\"성적 처리 끝\")"
      ],
      "metadata": {
        "colab": {
          "base_uri": "https://localhost:8080/"
        },
        "id": "OOmOQQyw7qjb",
        "outputId": "e44deebf-6980-4e6e-be31-44ff0aa63491"
      },
      "execution_count": 9,
      "outputs": [
        {
          "output_type": "stream",
          "name": "stdout",
          "text": [
            "92\n",
            "86\n",
            "68\n",
            "성적 처리 끝\n"
          ]
        }
      ]
    },
    {
      "cell_type": "code",
      "source": [
        "#ex21-1\n",
        "score = [ 92, 86, 68, 120, 56, 72]\n",
        "for i in range(len(score)):\n",
        "  if score[i]>100:\n",
        "    continue\n",
        "  print(score[i])\n",
        "print(\"성적 처리 끝\")"
      ],
      "metadata": {
        "colab": {
          "base_uri": "https://localhost:8080/"
        },
        "id": "5KJzK4hi8wLE",
        "outputId": "924adbae-d39b-46ee-c036-ec7e44299b95"
      },
      "execution_count": 11,
      "outputs": [
        {
          "output_type": "stream",
          "name": "stdout",
          "text": [
            "92\n",
            "86\n",
            "68\n",
            "56\n",
            "72\n",
            "성적 처리 끝\n"
          ]
        }
      ]
    },
    {
      "cell_type": "code",
      "source": [
        "#ex22\n",
        "print( \" 3 + 4 = ? \")\n",
        "while True:\n",
        "  a=int(input(\"정답을 입력하시오 :\"))\n",
        "  if a == 7:\n",
        "    break\n",
        "print(\"참 잘 했어요\")"
      ],
      "metadata": {
        "colab": {
          "base_uri": "https://localhost:8080/"
        },
        "id": "qVfvT5ctCjFT",
        "outputId": "97008423-c777-4bf1-e2b9-6c8e09c794aa"
      },
      "execution_count": 12,
      "outputs": [
        {
          "output_type": "stream",
          "name": "stdout",
          "text": [
            " 3 + 4 = ? \n",
            "정답을 입력하시오 :7\n",
            "참 잘 했어요\n"
          ]
        }
      ]
    },
    {
      "cell_type": "code",
      "source": [
        "#ex23\n",
        "while True:\n",
        "  light = input(\"신호등 색상 입력 : \")\n",
        "  if light == \"green\":\n",
        "    break\n",
        "print(\"길을 건너세요\")"
      ],
      "metadata": {
        "colab": {
          "base_uri": "https://localhost:8080/"
        },
        "id": "2RMSkj8dDLQR",
        "outputId": "8775876f-ab27-4623-c3b9-0c61e015f89e"
      },
      "execution_count": 16,
      "outputs": [
        {
          "output_type": "stream",
          "name": "stdout",
          "text": [
            "신호등 색상 입력 : green\n",
            "길을 건너세요\n"
          ]
        }
      ]
    },
    {
      "cell_type": "code",
      "source": [
        "#ex24\n",
        "i = 1\n",
        "total = 0\n",
        "while True :\n",
        "  total = total + i\n",
        "  if total>50:\n",
        "    print(\"합이 50보다 커지는 수는 %d이고 합은 %d이다.\" %(i, total))\n",
        "    break\n",
        "  i+=1"
      ],
      "metadata": {
        "colab": {
          "base_uri": "https://localhost:8080/"
        },
        "id": "FChzE8NxDm4q",
        "outputId": "848f0a39-51ca-4a0a-dc1f-40188e0d2b14"
      },
      "execution_count": 18,
      "outputs": [
        {
          "output_type": "stream",
          "name": "stdout",
          "text": [
            "합이 50보다 커지는 수는 10이고 합은 55이다.\n"
          ]
        }
      ]
    },
    {
      "cell_type": "code",
      "source": [
        "for dan in range(2, 10):\n",
        "  print(dan, \"단\")\n",
        "  for hang in range(2, 10):\n",
        "      print( dan, \"*\", hang, \"=\", dan*hang)\n",
        "  print() "
      ],
      "metadata": {
        "colab": {
          "base_uri": "https://localhost:8080/"
        },
        "id": "HjNYBMpYEhWp",
        "outputId": "63e4150b-1f87-41ca-d857-582decca21f3"
      },
      "execution_count": 22,
      "outputs": [
        {
          "output_type": "stream",
          "name": "stdout",
          "text": [
            "2 단\n",
            "2 * 2 = 4\n",
            "2 * 3 = 6\n",
            "2 * 4 = 8\n",
            "2 * 5 = 10\n",
            "2 * 6 = 12\n",
            "2 * 7 = 14\n",
            "2 * 8 = 16\n",
            "2 * 9 = 18\n",
            "\n",
            "3 단\n",
            "3 * 2 = 6\n",
            "3 * 3 = 9\n",
            "3 * 4 = 12\n",
            "3 * 5 = 15\n",
            "3 * 6 = 18\n",
            "3 * 7 = 21\n",
            "3 * 8 = 24\n",
            "3 * 9 = 27\n",
            "\n",
            "4 단\n",
            "4 * 2 = 8\n",
            "4 * 3 = 12\n",
            "4 * 4 = 16\n",
            "4 * 5 = 20\n",
            "4 * 6 = 24\n",
            "4 * 7 = 28\n",
            "4 * 8 = 32\n",
            "4 * 9 = 36\n",
            "\n",
            "5 단\n",
            "5 * 2 = 10\n",
            "5 * 3 = 15\n",
            "5 * 4 = 20\n",
            "5 * 5 = 25\n",
            "5 * 6 = 30\n",
            "5 * 7 = 35\n",
            "5 * 8 = 40\n",
            "5 * 9 = 45\n",
            "\n",
            "6 단\n",
            "6 * 2 = 12\n",
            "6 * 3 = 18\n",
            "6 * 4 = 24\n",
            "6 * 5 = 30\n",
            "6 * 6 = 36\n",
            "6 * 7 = 42\n",
            "6 * 8 = 48\n",
            "6 * 9 = 54\n",
            "\n",
            "7 단\n",
            "7 * 2 = 14\n",
            "7 * 3 = 21\n",
            "7 * 4 = 28\n",
            "7 * 5 = 35\n",
            "7 * 6 = 42\n",
            "7 * 7 = 49\n",
            "7 * 8 = 56\n",
            "7 * 9 = 63\n",
            "\n",
            "8 단\n",
            "8 * 2 = 16\n",
            "8 * 3 = 24\n",
            "8 * 4 = 32\n",
            "8 * 5 = 40\n",
            "8 * 6 = 48\n",
            "8 * 7 = 56\n",
            "8 * 8 = 64\n",
            "8 * 9 = 72\n",
            "\n",
            "9 단\n",
            "9 * 2 = 18\n",
            "9 * 3 = 27\n",
            "9 * 4 = 36\n",
            "9 * 5 = 45\n",
            "9 * 6 = 54\n",
            "9 * 7 = 63\n",
            "9 * 8 = 72\n",
            "9 * 9 = 81\n",
            "\n"
          ]
        }
      ]
    },
    {
      "cell_type": "code",
      "source": [
        "#ex25\n",
        "dan = 2\n",
        "while dan<10:\n",
        "  hang = 1\n",
        "  print(dan, \"단\")\n",
        "  while hang<10:\n",
        "    print(dan, \"*\", hang, \"=\", dan*hang)\n",
        "    hang+=1\n",
        "  dan+=1\n",
        "  print()"
      ],
      "metadata": {
        "colab": {
          "base_uri": "https://localhost:8080/"
        },
        "id": "66slCe7WE5r6",
        "outputId": "8ac2d61f-4d1b-48ff-9baf-5a85383aa8d8"
      },
      "execution_count": 23,
      "outputs": [
        {
          "output_type": "stream",
          "name": "stdout",
          "text": [
            "2 단\n",
            "2 * 1 = 2\n",
            "2 * 2 = 4\n",
            "2 * 3 = 6\n",
            "2 * 4 = 8\n",
            "2 * 5 = 10\n",
            "2 * 6 = 12\n",
            "2 * 7 = 14\n",
            "2 * 8 = 16\n",
            "2 * 9 = 18\n",
            "\n",
            "3 단\n",
            "3 * 1 = 3\n",
            "3 * 2 = 6\n",
            "3 * 3 = 9\n",
            "3 * 4 = 12\n",
            "3 * 5 = 15\n",
            "3 * 6 = 18\n",
            "3 * 7 = 21\n",
            "3 * 8 = 24\n",
            "3 * 9 = 27\n",
            "\n",
            "4 단\n",
            "4 * 1 = 4\n",
            "4 * 2 = 8\n",
            "4 * 3 = 12\n",
            "4 * 4 = 16\n",
            "4 * 5 = 20\n",
            "4 * 6 = 24\n",
            "4 * 7 = 28\n",
            "4 * 8 = 32\n",
            "4 * 9 = 36\n",
            "\n",
            "5 단\n",
            "5 * 1 = 5\n",
            "5 * 2 = 10\n",
            "5 * 3 = 15\n",
            "5 * 4 = 20\n",
            "5 * 5 = 25\n",
            "5 * 6 = 30\n",
            "5 * 7 = 35\n",
            "5 * 8 = 40\n",
            "5 * 9 = 45\n",
            "\n",
            "6 단\n",
            "6 * 1 = 6\n",
            "6 * 2 = 12\n",
            "6 * 3 = 18\n",
            "6 * 4 = 24\n",
            "6 * 5 = 30\n",
            "6 * 6 = 36\n",
            "6 * 7 = 42\n",
            "6 * 8 = 48\n",
            "6 * 9 = 54\n",
            "\n",
            "7 단\n",
            "7 * 1 = 7\n",
            "7 * 2 = 14\n",
            "7 * 3 = 21\n",
            "7 * 4 = 28\n",
            "7 * 5 = 35\n",
            "7 * 6 = 42\n",
            "7 * 7 = 49\n",
            "7 * 8 = 56\n",
            "7 * 9 = 63\n",
            "\n",
            "8 단\n",
            "8 * 1 = 8\n",
            "8 * 2 = 16\n",
            "8 * 3 = 24\n",
            "8 * 4 = 32\n",
            "8 * 5 = 40\n",
            "8 * 6 = 48\n",
            "8 * 7 = 56\n",
            "8 * 8 = 64\n",
            "8 * 9 = 72\n",
            "\n",
            "9 단\n",
            "9 * 1 = 9\n",
            "9 * 2 = 18\n",
            "9 * 3 = 27\n",
            "9 * 4 = 36\n",
            "9 * 5 = 45\n",
            "9 * 6 = 54\n",
            "9 * 7 = 63\n",
            "9 * 8 = 72\n",
            "9 * 9 = 81\n",
            "\n"
          ]
        }
      ]
    },
    {
      "cell_type": "code",
      "source": [
        "#ex26\n",
        "for y in range(1, 6):\n",
        "  for x in range(y):\n",
        "    print(\"*\", end= '')\n",
        "  print()"
      ],
      "metadata": {
        "colab": {
          "base_uri": "https://localhost:8080/"
        },
        "id": "UxbA152XGI0C",
        "outputId": "6ac14c2a-5d55-4660-80ed-4808c71e4a96"
      },
      "execution_count": 26,
      "outputs": [
        {
          "output_type": "stream",
          "name": "stdout",
          "text": [
            "*\n",
            "**\n",
            "***\n",
            "****\n",
            "*****\n"
          ]
        }
      ]
    },
    {
      "cell_type": "code",
      "source": [
        "#ex27\n",
        "for i in range(7):\n",
        "  for j in range(7):\n",
        "    if (i==j) or (i+j== 6) : \n",
        "      print('*', end = '')\n",
        "    else:\n",
        "      print(' ', end= '')\n",
        "  print()"
      ],
      "metadata": {
        "colab": {
          "base_uri": "https://localhost:8080/"
        },
        "id": "nIxkKUPdG7lr",
        "outputId": "e4817baa-c8de-48be-e2a3-cee0cadb8562"
      },
      "execution_count": 30,
      "outputs": [
        {
          "output_type": "stream",
          "name": "stdout",
          "text": [
            "*     *\n",
            " *   * \n",
            "  * *  \n",
            "   *   \n",
            "  * *  \n",
            " *   * \n",
            "*     *\n"
          ]
        }
      ]
    },
    {
      "cell_type": "code",
      "source": [
        "#ex28\n",
        "cnt = 0\n",
        "n = int(input('수 입력 : '))\n",
        "\n",
        "for i in range(2, n+1):\n",
        "  pn = 1\n",
        "  for j in range(2, i):\n",
        "      if i%j==0:\n",
        "        pn = 0\n",
        "  if pn ==1:\n",
        "    print('{:>5}'.format(i), sep = '', end = ' ')\n",
        "    cnt +=1\n",
        "    if cnt%5==0:\n",
        "      print()"
      ],
      "metadata": {
        "colab": {
          "base_uri": "https://localhost:8080/"
        },
        "id": "qj20Ch7bI8tw",
        "outputId": "7e01559e-5ae2-4473-ae7d-a73b4629f8d8"
      },
      "execution_count": 38,
      "outputs": [
        {
          "output_type": "stream",
          "name": "stdout",
          "text": [
            "수 입력 : 50\n",
            "    2     3     5     7    11 \n",
            "   13    17    19    23    29 \n",
            "   31    37    41    43    47 \n"
          ]
        }
      ]
    },
    {
      "cell_type": "code",
      "source": [],
      "metadata": {
        "id": "iL_nSJZ2I8yo"
      },
      "execution_count": null,
      "outputs": []
    },
    {
      "cell_type": "code",
      "source": [],
      "metadata": {
        "id": "oxB6dbuoI83r"
      },
      "execution_count": null,
      "outputs": []
    }
  ]
}