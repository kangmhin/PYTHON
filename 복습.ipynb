{
 "cells": [
  {
   "cell_type": "code",
   "execution_count": null,
   "metadata": {},
   "outputs": [],
   "source": [
    "from math import*\n",
    "print(floor(4.99)) #내림\n",
    "print(ceil(3.14)) #올림\n",
    "print(sqrt(4)) #제곱근"
   ]
  },
  {
   "cell_type": "code",
   "execution_count": 1,
   "metadata": {},
   "outputs": [
    {
     "name": "stdout",
     "output_type": "stream",
     "text": [
      "0.8602621743149937\n",
      "0\n",
      "4\n",
      "24\n"
     ]
    }
   ],
   "source": [
    "from random import *\n",
    "\n",
    "print(random()) \n",
    "print(int(random()*10))\n",
    "print(randrange(1, 26)) \n",
    "print(randint(1, 25))"
   ]
  },
  {
   "cell_type": "code",
   "execution_count": 2,
   "metadata": {},
   "outputs": [
    {
     "name": "stdout",
     "output_type": "stream",
     "text": [
      "strawberry cake\n",
      "STRAWBERRY CAKE\n",
      "True\n",
      "15\n",
      "Chocolate Cake\n",
      "1\n",
      "-1\n",
      "3\n"
     ]
    }
   ],
   "source": [
    "#문자열 처리함수\n",
    "cake = \"Strawberry Cake\"\n",
    "print(cake.lower())\n",
    "print(cake.upper())\n",
    "\n",
    "print(cake[0].isupper())\n",
    "print(len(cake))\n",
    "print(cake.replace(\"Strawberry\", \"Chocolate\"))\n",
    "\n",
    "index = cake.index(\"t\")\n",
    "print(index)\n",
    "\n",
    "print(cake.find(\"pie\")) #없을 떄는 -1 변환\n",
    "\n",
    "print(cake.count(\"r\")) "
   ]
  },
  {
   "cell_type": "code",
   "execution_count": 4,
   "metadata": {},
   "outputs": [
    {
     "name": "stdout",
     "output_type": "stream",
     "text": [
      "우리집 고양이는 30살 입니다.\n",
      "고양이는 츄르를 좋아해요.\n",
      "chur는 C로 시작해요~\n"
     ]
    }
   ],
   "source": [
    "print(\"우리집 고양이는 %d살 입니다.\" %30)\n",
    "print(\"고양이는 %s를 좋아해요.\" %\"츄르\")\n",
    "print(\"chur는 %c로 시작해요~\"%\"C\")\n"
   ]
  },
  {
   "cell_type": "code",
   "execution_count": 7,
   "metadata": {},
   "outputs": [
    {
     "name": "stdout",
     "output_type": "stream",
     "text": [
      "코코는 2살 입니다.\n",
      "코코는 망고맛과 수박맛을 좋아해요.\n",
      "코코는 수박맛과 망고맛을 좋아해요.\n"
     ]
    }
   ],
   "source": [
    "#문자열 포맷팅2\n",
    "print(\"코코는 {}살 입니다.\".format(2))\n",
    "print(\"코코는 {0}맛과 {1}맛을 좋아해요.\".format(\"망고\", \"수박\"))\n",
    "print(\"코코는 {1}맛과 {0}맛을 좋아해요.\".format(\"망고\", \"수박\"))"
   ]
  },
  {
   "cell_type": "code",
   "execution_count": 8,
   "metadata": {},
   "outputs": [
    {
     "name": "stdout",
     "output_type": "stream",
     "text": [
      "코코는 2살 이며, 레몬색을 좋아해요.\n",
      "z코코는 2살이며, 레몬색을 좋아해요\n"
     ]
    }
   ],
   "source": [
    "#문자열 포맷팅 3\n",
    "print(\"코코는 {age}살 이며, {color}색을 좋아해요.\".format(age= 2, color = \"레몬\"))\n",
    "print(\"z코코는 {age}살이며, {color}색을 좋아해요\".format(color = \"레몬\", age=2))"
   ]
  },
  {
   "cell_type": "code",
   "execution_count": 9,
   "metadata": {},
   "outputs": [
    {
     "name": "stdout",
     "output_type": "stream",
     "text": [
      "코코는 2살이며, 레몬색을 좋아해요\n"
     ]
    }
   ],
   "source": [
    "#문자열 포맷팅4\n",
    "age = 2\n",
    "color = \"레몬\"\n",
    "print(f\"코코는 {age}살이며, {color}색을 좋아해요\")"
   ]
  },
  {
   "cell_type": "code",
   "execution_count": 10,
   "metadata": {},
   "outputs": [
    {
     "name": "stdout",
     "output_type": "stream",
     "text": [
      "집에 가고 싶다\n",
      "맛있는거 먹고 싶다.\n",
      "집에가서 \"닭갈비\"먹고싶다. \n",
      "집에가서 \"닭갋비\"먹고싶다. \n"
     ]
    }
   ],
   "source": [
    "#이스케이프 문자 \n",
    "print(\"집에 가고 싶다\\n맛있는거 먹고 싶다.\")\n",
    "\n",
    "#print(\"집에 가서 \"닭갈비\" 먹고싶다.\")\n",
    "print('집에가서 \"닭갈비\"먹고싶다. ')\n",
    "\n",
    "print(\"집에가서 \\\"닭갋비\\\"먹고싶다. \")\n",
    "\n",
    "#print(\"C:\\Users\\\")"
   ]
  },
  {
   "cell_type": "code",
   "execution_count": 22,
   "metadata": {},
   "outputs": [
    {
     "name": "stdout",
     "output_type": "stream",
     "text": [
      "goo61@\n"
     ]
    }
   ],
   "source": [
    "list = (\"https://www.google.com\")\n",
    "pw=list[12:]\n",
    "pw = pw[:6]\n",
    "pw = pw[0:3]+str(len(pw))+str(pw.count(\"e\"))+\"@\"\n",
    "print(pw)"
   ]
  },
  {
   "cell_type": "code",
   "execution_count": 23,
   "metadata": {},
   "outputs": [
    {
     "name": "stdout",
     "output_type": "stream",
     "text": [
      "['아메리카노', '바닐라라떼', '복숭아스무디']\n"
     ]
    }
   ],
   "source": [
    "cafe_menu = ['아메리카노', \"바닐라라떼\", \"복숭아스무디\"]#순서가 있다.\n",
    "print(cafe_menu)"
   ]
  },
  {
   "cell_type": "code",
   "execution_count": null,
   "metadata": {},
   "outputs": [],
   "source": [
    "#마지막에 추가\n",
    "cafe_menu.append(\"레몬에이드\")"
   ]
  }
 ],
 "metadata": {
  "kernelspec": {
   "display_name": "Python 3",
   "language": "python",
   "name": "python3"
  },
  "language_info": {
   "codemirror_mode": {
    "name": "ipython",
    "version": 3
   },
   "file_extension": ".py",
   "mimetype": "text/x-python",
   "name": "python",
   "nbconvert_exporter": "python",
   "pygments_lexer": "ipython3",
   "version": "3.11.2"
  },
  "orig_nbformat": 4
 },
 "nbformat": 4,
 "nbformat_minor": 2
}
