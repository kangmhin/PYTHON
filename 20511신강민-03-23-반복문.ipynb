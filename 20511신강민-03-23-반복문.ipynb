{
  "nbformat": 4,
  "nbformat_minor": 0,
  "metadata": {
    "colab": {
      "provenance": []
    },
    "kernelspec": {
      "name": "python3",
      "display_name": "Python 3"
    },
    "language_info": {
      "name": "python"
    }
  },
  "cells": [
    {
      "cell_type": "markdown",
      "source": [
        "1.반복문\n",
        "while 반복문\n",
        "> while 문은 조건이 만족하는 동안 계속 명령을 실행하는 반복문이다.\n",
        ">보통 여러개의 명령 묶음이 블록에 오며 블록에 속하는 명령은 들여쓰기를 일치시킨다. 기본 형식은 다음과 같다."
      ],
      "metadata": {
        "id": "pQv1TDIHJtjQ"
      }
    },
    {
      "cell_type": "markdown",
      "source": [
        "보통 여러개의 명령 묶음이 블록에 오며 블록에 속하는 명령은 들여쓰기를 일치시킨다. 기본 형식은 다음과 같다."
      ],
      "metadata": {
        "id": "x6St2Y9uKAMf"
      }
    },
    {
      "cell_type": "markdown",
      "source": [
        "page16"
      ],
      "metadata": {
        "id": "PYeCBM_qLQCf"
      }
    },
    {
      "cell_type": "code",
      "source": [
        "i=0\n",
        "while i<3 :\n",
        "  print(\"안녕하세요.\")\n",
        "  i+=1"
      ],
      "metadata": {
        "colab": {
          "base_uri": "https://localhost:8080/"
        },
        "id": "fQbcG_wiKXin",
        "outputId": "047588ac-8028-4568-bd47-ffe051fb2d8c"
      },
      "execution_count": 3,
      "outputs": [
        {
          "output_type": "stream",
          "name": "stdout",
          "text": [
            "안녕하세요.\n",
            "안녕하세요.\n",
            "안녕하세요.\n"
          ]
        }
      ]
    },
    {
      "cell_type": "code",
      "source": [
        "i=1\n",
        "while i<=3 :\n",
        "  print(\"%d 번 학생의 성적을 처리한다.\"%(i))\n",
        "  i+=1"
      ],
      "metadata": {
        "colab": {
          "base_uri": "https://localhost:8080/"
        },
        "id": "6_mM7TMcK0NW",
        "outputId": "0e864efc-cb01-430a-b698-e34c595b3316"
      },
      "execution_count": 6,
      "outputs": [
        {
          "output_type": "stream",
          "name": "stdout",
          "text": [
            "1 번 학생의 성적을 처리한다.\n",
            "2 번 학생의 성적을 처리한다.\n",
            "3 번 학생의 성적을 처리한다.\n"
          ]
        }
      ]
    },
    {
      "cell_type": "code",
      "source": [
        "dan = int(input(\"원하는 단은? : \"))\n",
        "i=1\n",
        "while i<=9 : \n",
        "  print(dan, '*', i, '=', dan*i)\n",
        "  i+=1\n"
      ],
      "metadata": {
        "colab": {
          "base_uri": "https://localhost:8080/"
        },
        "id": "2Y59KvXLLRsv",
        "outputId": "8e6d022f-a342-48cd-cb85-ccdbc94486ca"
      },
      "execution_count": 1,
      "outputs": [
        {
          "output_type": "stream",
          "name": "stdout",
          "text": [
            "원하는 단은? : 9\n",
            "9 * 1 = 9\n",
            "9 * 2 = 18\n",
            "9 * 3 = 27\n",
            "9 * 4 = 36\n",
            "9 * 5 = 45\n",
            "9 * 6 = 54\n",
            "9 * 7 = 63\n",
            "9 * 8 = 72\n",
            "9 * 9 = 81\n"
          ]
        }
      ]
    },
    {
      "cell_type": "code",
      "source": [
        "i=1\n",
        "sum =0\n",
        "while i<=10 :\n",
        "  sum+=i\n",
        "  print(\"i의 값\", i, \"=> 합계 : \", sum)\n",
        "  i+=1"
      ],
      "metadata": {
        "colab": {
          "base_uri": "https://localhost:8080/"
        },
        "id": "giw7CvIqMkyo",
        "outputId": "c1e7e3d6-4266-44fd-e7a5-f60dceeccc46"
      },
      "execution_count": 3,
      "outputs": [
        {
          "output_type": "stream",
          "name": "stdout",
          "text": [
            "i의 값 1 => 합계 :  1\n",
            "i의 값 2 => 합계 :  3\n",
            "i의 값 3 => 합계 :  6\n",
            "i의 값 4 => 합계 :  10\n",
            "i의 값 5 => 합계 :  15\n",
            "i의 값 6 => 합계 :  21\n",
            "i의 값 7 => 합계 :  28\n",
            "i의 값 8 => 합계 :  36\n",
            "i의 값 9 => 합계 :  45\n",
            "i의 값 10 => 합계 :  55\n"
          ]
        }
      ]
    },
    {
      "cell_type": "code",
      "source": [
        "i=150\n",
        "sum=0\n",
        "while i<=300:\n",
        "  if i%2==1:\n",
        "    sum+=i\n",
        "  i+=1\n",
        "print(\"sum =\", sum)"
      ],
      "metadata": {
        "colab": {
          "base_uri": "https://localhost:8080/"
        },
        "id": "7sbG6zJ8NO7W",
        "outputId": "40fed087-4d7e-4db1-fb96-a918f83b4bd2"
      },
      "execution_count": 6,
      "outputs": [
        {
          "output_type": "stream",
          "name": "stdout",
          "text": [
            "sum = 16875\n"
          ]
        }
      ]
    },
    {
      "cell_type": "code",
      "source": [
        "print('-' * 15)\n",
        "print(' 섭씨  화씨 ')\n",
        "print('-' *15)\n",
        "c = -5\n",
        "while c<=5 :\n",
        "  f = c * 9.0/5.0 + 32.0 #화씨온도\n",
        "  print(\"%5d %5.1f\"%(c,f))\n",
        "  c+=1\n",
        "print('-' *15)\n"
      ],
      "metadata": {
        "colab": {
          "base_uri": "https://localhost:8080/"
        },
        "id": "FDLkCKqcNz4_",
        "outputId": "b44403ae-ab0e-4907-fc57-1bd29caeb8e5"
      },
      "execution_count": 8,
      "outputs": [
        {
          "output_type": "stream",
          "name": "stdout",
          "text": [
            "---------------\n",
            " 섭씨  화씨 \n",
            "---------------\n",
            "   -5  23.0\n",
            "   -4  24.8\n",
            "   -3  26.6\n",
            "   -2  28.4\n",
            "   -1  30.2\n",
            "    0  32.0\n",
            "    1  33.8\n",
            "    2  35.6\n",
            "    3  37.4\n",
            "    4  39.2\n",
            "    5  41.0\n",
            "---------------\n"
          ]
        }
      ]
    },
    {
      "cell_type": "code",
      "source": [
        "n=1\n",
        "factorial = 1\n",
        "while n<=10 :\n",
        "  factorial *=n\n",
        "  n+=1\n",
        "print(\"10! =\", factorial)"
      ],
      "metadata": {
        "colab": {
          "base_uri": "https://localhost:8080/"
        },
        "id": "NQNplBjqPOa2",
        "outputId": "5dbdf0ae-10b7-423a-b740-cb853bd75596"
      },
      "execution_count": 10,
      "outputs": [
        {
          "output_type": "stream",
          "name": "stdout",
          "text": [
            "10! = 3628800\n"
          ]
        }
      ]
    },
    {
      "cell_type": "code",
      "source": [
        "n=1\n",
        "while n<=20:\n",
        "  if n%2==0:\n",
        "    print(n)\n",
        "  n+=1"
      ],
      "metadata": {
        "colab": {
          "base_uri": "https://localhost:8080/"
        },
        "id": "3hWQZb4hPyvW",
        "outputId": "19d90881-f301-42d0-f717-feee89158cbf"
      },
      "execution_count": 13,
      "outputs": [
        {
          "output_type": "stream",
          "name": "stdout",
          "text": [
            "2  \n",
            "4  \n",
            "6  \n",
            "8  \n",
            "10  \n",
            "12  \n",
            "14  \n",
            "16  \n",
            "18  \n",
            "20  \n"
          ]
        }
      ]
    },
    {
      "cell_type": "code",
      "source": [
        "n=9\n",
        "while n <= 50 :\n",
        "  n+=1\n",
        "  if n % 3==0 :\n",
        "      continue\n",
        "  print(n)\n"
      ],
      "metadata": {
        "colab": {
          "base_uri": "https://localhost:8080/"
        },
        "id": "qapCN1ByQHcu",
        "outputId": "eef1df33-8858-4965-8fd3-ba2d3f4f5a5f"
      },
      "execution_count": 6,
      "outputs": [
        {
          "output_type": "stream",
          "name": "stdout",
          "text": [
            "10\n",
            "11\n",
            "13\n",
            "14\n",
            "16\n",
            "17\n",
            "19\n",
            "20\n",
            "22\n",
            "23\n",
            "25\n",
            "26\n",
            "28\n",
            "29\n",
            "31\n",
            "32\n",
            "34\n",
            "35\n",
            "37\n",
            "38\n",
            "40\n",
            "41\n",
            "43\n",
            "44\n",
            "46\n",
            "47\n",
            "49\n",
            "50\n"
          ]
        }
      ]
    },
    {
      "cell_type": "code",
      "source": [],
      "metadata": {
        "id": "00mHUmIfSw5Q"
      },
      "execution_count": null,
      "outputs": []
    }
  ]
}