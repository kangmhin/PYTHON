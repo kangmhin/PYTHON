{
  "nbformat": 4,
  "nbformat_minor": 0,
  "metadata": {
    "colab": {
      "provenance": []
    },
    "kernelspec": {
      "name": "python3",
      "display_name": "Python 3"
    },
    "language_info": {
      "name": "python"
    }
  },
  "cells": [
    {
      "cell_type": "markdown",
      "source": [
        "page17"
      ],
      "metadata": {
        "id": "wQyBF79-xaAG"
      }
    },
    {
      "cell_type": "code",
      "source": [
        "#ex11\n",
        "\n",
        "pw = \"\"\n",
        "while pw != 'python' :\n",
        "  pw = input(\"암호입력 : \")\n",
        "print(\"로그인 성공\")"
      ],
      "metadata": {
        "colab": {
          "base_uri": "https://localhost:8080/"
        },
        "id": "pNvSO0ENxesF",
        "outputId": "fc6dc6ef-f779-4ec2-eed2-b04f74323b8d"
      },
      "execution_count": null,
      "outputs": [
        {
          "output_type": "stream",
          "name": "stdout",
          "text": [
            "암호입력 : python\n",
            "로그인 성공\n"
          ]
        }
      ]
    },
    {
      "cell_type": "code",
      "source": [
        "#ex12\n",
        "import random\n",
        "\n",
        "cnt = 0\n",
        "guess = 0\n",
        "answer = random.randint(1, 100)\n",
        "print(\"1부터 100사이의 숫자를 맞추기\")\n",
        "\n",
        "while guess != answer :\n",
        "  guess = int(input(\"숫자를 맞춰 보세요 : \"))\n",
        "  cnt+=1\n",
        "  if guess > answer:\n",
        "    print(\"높음\")\n",
        "  elif guess < answer :\n",
        "    print(\"낮음\")\n",
        "print(\"축하합니다., 시도횟수 = \", cnt)"
      ],
      "metadata": {
        "colab": {
          "base_uri": "https://localhost:8080/"
        },
        "id": "78wT4Ut8yoeN",
        "outputId": "df9f729d-dc5a-4d3d-9902-b14deac39533"
      },
      "execution_count": null,
      "outputs": [
        {
          "output_type": "stream",
          "name": "stdout",
          "text": [
            "1부터 100사이의 숫자를 맞추기\n",
            "숫자를 맞춰 보세요 : 50\n",
            "높음\n",
            "숫자를 맞춰 보세요 : 30\n",
            "높음\n",
            "숫자를 맞춰 보세요 : 20\n",
            "높음\n",
            "숫자를 맞춰 보세요 : 10\n",
            "낮음\n",
            "숫자를 맞춰 보세요 : 15\n",
            "높음\n",
            "숫자를 맞춰 보세요 : 13\n",
            "축하합니다., 시도횟수 =  6\n"
          ]
        }
      ]
    },
    {
      "cell_type": "markdown",
      "source": [
        "page18\n"
      ],
      "metadata": {
        "id": "yL0E_2E72CBC"
      }
    },
    {
      "cell_type": "code",
      "source": [
        "#ex1\n",
        "for i in [1,2,3]:\n",
        "  print(\"안녕하세요\")"
      ],
      "metadata": {
        "colab": {
          "base_uri": "https://localhost:8080/"
        },
        "id": "byq2uU6g16QU",
        "outputId": "2d15edcf-29fa-42b6-bc0e-26eec920953c"
      },
      "execution_count": null,
      "outputs": [
        {
          "output_type": "stream",
          "name": "stdout",
          "text": [
            "안녕하세요\n",
            "안녕하세요\n",
            "안녕하세요\n"
          ]
        }
      ]
    },
    {
      "cell_type": "code",
      "source": [
        "#ex2\n",
        "for i in range(10):\n",
        "  print(i, end = \" \")\n"
      ],
      "metadata": {
        "colab": {
          "base_uri": "https://localhost:8080/"
        },
        "id": "WJiji_kp2jjz",
        "outputId": "ebd823b6-acfa-4531-a43d-cb0755279fee"
      },
      "execution_count": null,
      "outputs": [
        {
          "output_type": "stream",
          "name": "stdout",
          "text": [
            "0 1 2 3 4 5 6 7 8 9 "
          ]
        }
      ]
    },
    {
      "cell_type": "code",
      "source": [
        "#ex3\n",
        "for i in range(1,11):\n",
        "  print(i, end = \" \")"
      ],
      "metadata": {
        "colab": {
          "base_uri": "https://localhost:8080/"
        },
        "id": "jT2ZAAju6wyC",
        "outputId": "997311b8-068e-4ae6-fb8b-3e59e1a807b9"
      },
      "execution_count": null,
      "outputs": [
        {
          "output_type": "stream",
          "name": "stdout",
          "text": [
            "1 2 3 4 5 6 7 8 9 10 "
          ]
        }
      ]
    },
    {
      "cell_type": "code",
      "source": [
        "#ex4\n",
        "for i in range(1, 10, 2):\n",
        "  print(i, end = \" \")"
      ],
      "metadata": {
        "colab": {
          "base_uri": "https://localhost:8080/"
        },
        "id": "_b870dIv68hy",
        "outputId": "c6b319d3-c48e-4a62-c894-4e87542b8c0e"
      },
      "execution_count": null,
      "outputs": [
        {
          "output_type": "stream",
          "name": "stdout",
          "text": [
            "1 3 5 7 9 "
          ]
        }
      ]
    },
    {
      "cell_type": "code",
      "source": [
        "#ex5\n",
        "for i in range(20, 1, -2):\n",
        "  print(i, end = \" \")"
      ],
      "metadata": {
        "colab": {
          "base_uri": "https://localhost:8080/"
        },
        "id": "Vr7MDmqp-ZPh",
        "outputId": "a318c054-37aa-4194-e0ba-954d414c2c3f"
      },
      "execution_count": null,
      "outputs": [
        {
          "output_type": "stream",
          "name": "stdout",
          "text": [
            "20 18 16 14 12 10 8 6 4 2 "
          ]
        }
      ]
    },
    {
      "cell_type": "code",
      "source": [
        "#ex6\n",
        "for i in range(3):\n",
        "  print(\"안녕하세요\")"
      ],
      "metadata": {
        "colab": {
          "base_uri": "https://localhost:8080/"
        },
        "id": "xgdlq8XE--RR",
        "outputId": "0f921fca-4bf0-4b0e-8ec0-54805dce54bd"
      },
      "execution_count": null,
      "outputs": [
        {
          "output_type": "stream",
          "name": "stdout",
          "text": [
            "안녕하세요\n",
            "안녕하세요\n",
            "안녕하세요\n"
          ]
        }
      ]
    },
    {
      "cell_type": "code",
      "source": [
        "#ex7\n",
        "a= 10\n",
        "for num in range(1, 5, 2):\n",
        "  a+=num\n",
        "print(a)"
      ],
      "metadata": {
        "colab": {
          "base_uri": "https://localhost:8080/"
        },
        "id": "4DPgpFD-_TRh",
        "outputId": "bbedd22b-291e-49f2-94a4-f6616e87b151"
      },
      "execution_count": null,
      "outputs": [
        {
          "output_type": "stream",
          "name": "stdout",
          "text": [
            "14\n"
          ]
        }
      ]
    },
    {
      "cell_type": "code",
      "source": [
        "#ex8\n",
        "for i in range(1, 4):\n",
        "  print(i, \"번째 학생의 성적 처리\")"
      ],
      "metadata": {
        "colab": {
          "base_uri": "https://localhost:8080/"
        },
        "id": "Ig1hj64h_uj6",
        "outputId": "f3d41c60-773c-4c86-c087-1c8c9ee4c0f3"
      },
      "execution_count": null,
      "outputs": [
        {
          "output_type": "stream",
          "name": "stdout",
          "text": [
            "1 번째 학생의 성적 처리\n",
            "2 번째 학생의 성적 처리\n",
            "3 번째 학생의 성적 처리\n"
          ]
        }
      ]
    },
    {
      "cell_type": "code",
      "source": [
        "#ex9\n",
        "for i in range(1, 21):\n",
        "  if i%2==0 :\n",
        "    print(i, end = \" \")"
      ],
      "metadata": {
        "colab": {
          "base_uri": "https://localhost:8080/"
        },
        "id": "VsbmfIaN_3eR",
        "outputId": "55a4a5c9-4fce-4334-b1e0-30866aa1062c"
      },
      "execution_count": null,
      "outputs": [
        {
          "output_type": "stream",
          "name": "stdout",
          "text": [
            "2 4 6 8 10 12 14 16 18 20 "
          ]
        }
      ]
    },
    {
      "cell_type": "code",
      "source": [
        "#ex 10\n",
        "a = 2\n",
        "for b in range(1, 10, 1):\n",
        "  c = a * b\n",
        "  print(f\"{a} x {b} = {c}\")"
      ],
      "metadata": {
        "colab": {
          "base_uri": "https://localhost:8080/"
        },
        "id": "6VjhOeciAX0h",
        "outputId": "818dd0b2-a4a8-4f4d-9d3e-bfc8617288b4"
      },
      "execution_count": null,
      "outputs": [
        {
          "output_type": "stream",
          "name": "stdout",
          "text": [
            "2 x 1 = 2\n",
            "2 x 2 = 4\n",
            "2 x 3 = 6\n",
            "2 x 4 = 8\n",
            "2 x 5 = 10\n",
            "2 x 6 = 12\n",
            "2 x 7 = 14\n",
            "2 x 8 = 16\n",
            "2 x 9 = 18\n"
          ]
        }
      ]
    },
    {
      "cell_type": "code",
      "source": [
        "#ex11\n",
        "sum=0\n",
        "for i in range(1, 11):\n",
        "  sum+=i\n",
        "  print(\"i의 값 : \", i, \"=> 합계 : \", sum)\n"
      ],
      "metadata": {
        "colab": {
          "base_uri": "https://localhost:8080/"
        },
        "id": "ln9qOdbaBcFS",
        "outputId": "d055555e-e90d-4b54-ff0c-d22943dd5fc6"
      },
      "execution_count": null,
      "outputs": [
        {
          "output_type": "stream",
          "name": "stdout",
          "text": [
            "i의 값 :  1 => 합계 :  1\n",
            "i의 값 :  2 => 합계 :  3\n",
            "i의 값 :  3 => 합계 :  6\n",
            "i의 값 :  4 => 합계 :  10\n",
            "i의 값 :  5 => 합계 :  15\n",
            "i의 값 :  6 => 합계 :  21\n",
            "i의 값 :  7 => 합계 :  28\n",
            "i의 값 :  8 => 합계 :  36\n",
            "i의 값 :  9 => 합계 :  45\n",
            "i의 값 :  10 => 합계 :  55\n"
          ]
        }
      ]
    },
    {
      "cell_type": "code",
      "source": [
        "#ex12\n",
        "even_sum = 0\n",
        "for i in range(2, 101, 2):\n",
        "  even_sum+=i\n",
        "print(\"1~100까지의 even_sum =\", even_sum)"
      ],
      "metadata": {
        "colab": {
          "base_uri": "https://localhost:8080/"
        },
        "id": "qH5Vjtk6CF2i",
        "outputId": "4074cccd-3360-49ce-aca3-b0e0ea584158"
      },
      "execution_count": null,
      "outputs": [
        {
          "output_type": "stream",
          "name": "stdout",
          "text": [
            "1~100까지의 even_sum = 2550\n"
          ]
        }
      ]
    },
    {
      "cell_type": "code",
      "source": [
        "#ex13\n",
        "fact = 1\n",
        "for i in range(1, 11, 1):\n",
        "  fact = fact * i\n",
        "print(\"10!\", fact)"
      ],
      "metadata": {
        "colab": {
          "base_uri": "https://localhost:8080/"
        },
        "id": "zmRFwUrmCw_h",
        "outputId": "e50f9f8d-3d32-47fc-c6b9-12d7d1741d07"
      },
      "execution_count": null,
      "outputs": [
        {
          "output_type": "stream",
          "name": "stdout",
          "text": [
            "10! 3628800\n"
          ]
        }
      ]
    },
    {
      "cell_type": "code",
      "source": [
        "#ex14\n",
        "cnt = 0\n",
        "for i in range(5, 101, 5):\n",
        "  cnt+=1\n",
        "  print(i, end = \" \")\n",
        "  if cnt%7==0 :\n",
        "    print(\"\\n\")\n",
        " "
      ],
      "metadata": {
        "colab": {
          "base_uri": "https://localhost:8080/"
        },
        "id": "1vbDPg8PDE0R",
        "outputId": "b51f0c15-30aa-4fb7-ccc6-ce7e4cb0e3c5"
      },
      "execution_count": null,
      "outputs": [
        {
          "output_type": "stream",
          "name": "stdout",
          "text": [
            "5 10 15 20 25 30 35 \n",
            "\n",
            "40 45 50 55 60 65 70 \n",
            "\n",
            "75 80 85 90 95 100 "
          ]
        }
      ]
    },
    {
      "cell_type": "code",
      "source": [
        "#ex15\n",
        "n = int(input(\"정수를 입력하세요 : \"))\n",
        "for i in range(1, n+1):\n",
        "  if n%i==0:\n",
        "    print(i, end = \" \")"
      ],
      "metadata": {
        "colab": {
          "base_uri": "https://localhost:8080/"
        },
        "id": "C3Cezr49EMC5",
        "outputId": "43b28acc-f18a-44d9-8aa5-4b4ff9469813"
      },
      "execution_count": null,
      "outputs": [
        {
          "output_type": "stream",
          "name": "stdout",
          "text": [
            "정수를 입력하세요 : 12\n",
            "1 2 3 4 6 12 "
          ]
        }
      ]
    }
  ]
}