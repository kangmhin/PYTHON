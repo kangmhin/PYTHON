{
  "nbformat": 4,
  "nbformat_minor": 0,
  "metadata": {
    "colab": {
      "provenance": []
    },
    "kernelspec": {
      "name": "python3",
      "display_name": "Python 3"
    },
    "language_info": {
      "name": "python"
    }
  },
  "cells": [
    {
      "cell_type": "code",
      "execution_count": null,
      "metadata": {
        "colab": {
          "base_uri": "https://localhost:8080/"
        },
        "id": "Kfh4iRJo5r7S",
        "outputId": "9249aa9d-6cca-4f7c-eefc-5364fda57f88"
      },
      "outputs": [
        {
          "output_type": "stream",
          "name": "stdout",
          "text": [
            "I said \"hello\" to you.\n",
            "\n",
            "Let's go.\n"
          ]
        }
      ],
      "source": [
        "#1\n",
        "print('I said \"hello\" to you.\\n')\n",
        "print(\"Let's go.\")"
      ]
    },
    {
      "cell_type": "code",
      "source": [
        "#2\n",
        "below = int(input(\"삼각형의 밑변 길이 : \"))\n",
        "height = int(input(\"삼각형의 높이 : \"))\n",
        "area = below * height /2 \n",
        "print(\"삼각형의 면적 : %d\"%(area))"
      ],
      "metadata": {
        "colab": {
          "base_uri": "https://localhost:8080/"
        },
        "id": "DddaoEVU6HaV",
        "outputId": "4aaf460b-d979-425b-cf2c-92d7a7fff122"
      },
      "execution_count": null,
      "outputs": [
        {
          "output_type": "stream",
          "name": "stdout",
          "text": [
            "삼각형의 밑변 길이 : 10\n",
            "삼각형의 높이 : 3\n",
            "삼각형의 면적 : 15\n"
          ]
        }
      ]
    },
    {
      "cell_type": "code",
      "source": [
        "#3\n",
        "h = int(input(\"현재 시 : \"))\n",
        "m = int(input(\"현재 분 : \"))\n",
        "m+=20\n",
        "h=(h+m//60)%24 #// 정수형 나누기, / 실수형 나누기\n",
        "m%=60\n",
        "print(\"20분 뒤에는 %d시 %d분 입니다.\"%(h, m))\n",
        "\n",
        "\n"
      ],
      "metadata": {
        "colab": {
          "base_uri": "https://localhost:8080/"
        },
        "id": "xXPJ7NYO65ZE",
        "outputId": "4ec5047e-7451-4fac-a2c0-c694618c8f8c"
      },
      "execution_count": null,
      "outputs": [
        {
          "output_type": "stream",
          "name": "stdout",
          "text": [
            "현재 시 : 3\n",
            "현재 분 : 10\n",
            "20분 뒤에는 3시 30분 입니다.\n"
          ]
        }
      ]
    },
    {
      "cell_type": "code",
      "source": [
        "#4\n",
        "a = int(input(\"숫자 입력 : \"))\n",
        "print(abs(a))"
      ],
      "metadata": {
        "colab": {
          "base_uri": "https://localhost:8080/"
        },
        "id": "TXOO0GRc-B-l",
        "outputId": "15e36b34-f6f8-41c5-a53a-ce4f5068dc43"
      },
      "execution_count": null,
      "outputs": [
        {
          "output_type": "stream",
          "name": "stdout",
          "text": [
            "숫자 입력 : 10\n",
            "10\n"
          ]
        }
      ]
    },
    {
      "cell_type": "code",
      "source": [
        "#5\n",
        "id = input(\"아이디를 입력하세요 : \")\n",
        "level = int(input(\"회원 레벨을 입력하세요: \"))\n",
        "if id==\"amdin\" or level==1:\n",
        "  print(\"관리자 입니다.\")\n",
        "else :\n",
        "  print(\"관리자가 아닙니다.\")"
      ],
      "metadata": {
        "id": "N_HoH25I_FEF"
      },
      "execution_count": null,
      "outputs": []
    },
    {
      "cell_type": "code",
      "source": [
        "#6\n",
        "a = int(input(\"첫 번째 수 :\"))\n",
        "b = int(input(\"두 번째 수 :\"))\n",
        "c = int(input(\"세 번째 수 :\"))\n",
        "max=0\n",
        "if a>b and a>c:\n",
        "  max=a\n",
        "elif b>c:\n",
        "  max=b\n",
        "else:\n",
        "  max=c\n",
        "print(\"가장 큰 수는 %d입니다.\"%(max))"
      ],
      "metadata": {
        "colab": {
          "base_uri": "https://localhost:8080/"
        },
        "id": "LF0x2YTcEHkO",
        "outputId": "99e1ac31-b541-45ef-f5a1-ea2866e8871b"
      },
      "execution_count": null,
      "outputs": [
        {
          "output_type": "stream",
          "name": "stdout",
          "text": [
            "첫 번째 수 :50\n",
            "두 번째 수 :60\n",
            "세 번째 수 :70\n",
            "가장 큰 수는 70입니다.\n"
          ]
        }
      ]
    },
    {
      "cell_type": "code",
      "source": [
        "#7\n",
        "age = int(input(\"나이 입력 : \"))\n",
        "if 0<=age<=7:\n",
        "  print(\"어린이\")\n",
        "elif 8<=age<=13:\n",
        "  print(\"초등학생\")\n",
        "elif 14<=age<=16:\n",
        "  print(\"중학생\")\n",
        "elif 17<=age<=19:\n",
        "  print(\"고등학생\")\n",
        "else:\n",
        "  print(\"성인\")"
      ],
      "metadata": {
        "colab": {
          "base_uri": "https://localhost:8080/"
        },
        "id": "QQXEpJE5FX3H",
        "outputId": "98ca677a-6419-40c1-efef-ac1f17b3aeb4"
      },
      "execution_count": null,
      "outputs": [
        {
          "output_type": "stream",
          "name": "stdout",
          "text": [
            "나이 입력 : 100\n",
            "성인\n"
          ]
        }
      ]
    },
    {
      "cell_type": "code",
      "source": [
        "#8\n",
        "score = int(input(\"점수 입력 : \"))\n",
        "if score>=90:\n",
        "  print(\"A등급입니다.\")\n",
        "elif score>=80:\n",
        "  print(\"B등급입니다.\")\n",
        "elif score>=70:\n",
        "  print(\"C등급입니다.\")\n",
        "else :\n",
        "  print(\"F등급입니다.\")"
      ],
      "metadata": {
        "id": "_sMoMoU_GLS3"
      },
      "execution_count": null,
      "outputs": []
    },
    {
      "cell_type": "code",
      "source": [
        "#9\n",
        "a = int(input(\"숫자 입력 : \"))\n",
        "if a%3==0 and a%5!=0:\n",
        "  print(\"3의 배수\")\n",
        "elif a%3==0 and a%5==0:\n",
        "  print(\"3과 5의 공배수\")\n",
        "elif a%3!=0:\n",
        "  print(\"3의 배수가 아님\")\n"
      ],
      "metadata": {
        "colab": {
          "base_uri": "https://localhost:8080/"
        },
        "id": "FDAbNrzBG_2A",
        "outputId": "2f1e8e03-e524-47ab-e6e1-acdda9014bfd"
      },
      "execution_count": null,
      "outputs": [
        {
          "output_type": "stream",
          "name": "stdout",
          "text": [
            "숫자 입력 : 10\n",
            "3의 배수가 아님\n"
          ]
        }
      ]
    },
    {
      "cell_type": "code",
      "source": [
        "#10\n",
        "for i in range(1, 20, 2):\n",
        "  print(i, end= \" \")"
      ],
      "metadata": {
        "colab": {
          "base_uri": "https://localhost:8080/"
        },
        "id": "nRxk3vqfII-g",
        "outputId": "3eeeaede-effd-48bb-b66a-821ad36716f8"
      },
      "execution_count": null,
      "outputs": [
        {
          "output_type": "stream",
          "name": "stdout",
          "text": [
            "1 3 5 7 9 11 13 15 17 19 "
          ]
        }
      ]
    },
    {
      "cell_type": "code",
      "source": [
        "#11\n",
        "sum=0\n",
        "for num in range(1, 11, 1):\n",
        "  sum+=num\n",
        "  print(\"num의 값 : %d => 합계 : %d\"%(num, sum))"
      ],
      "metadata": {
        "colab": {
          "base_uri": "https://localhost:8080/"
        },
        "id": "ZHTaDKe9IesA",
        "outputId": "5f3ac75a-72e3-4f92-e684-e2349e9c7bc2"
      },
      "execution_count": null,
      "outputs": [
        {
          "output_type": "stream",
          "name": "stdout",
          "text": [
            "num의 값 : 1 => 합계 : 1\n",
            "num의 값 : 2 => 합계 : 3\n",
            "num의 값 : 3 => 합계 : 6\n",
            "num의 값 : 4 => 합계 : 10\n",
            "num의 값 : 5 => 합계 : 15\n",
            "num의 값 : 6 => 합계 : 21\n",
            "num의 값 : 7 => 합계 : 28\n",
            "num의 값 : 8 => 합계 : 36\n",
            "num의 값 : 9 => 합계 : 45\n",
            "num의 값 : 10 => 합계 : 55\n"
          ]
        }
      ]
    },
    {
      "cell_type": "code",
      "source": [
        "#12\n",
        "a = int(input(\"숫자 입력 : \"))\n",
        "n=a\n",
        "for i in range(a, 0, -1):\n",
        "  n*=i\n",
        "print(\"%d! = %d\"%(a, n))"
      ],
      "metadata": {
        "colab": {
          "base_uri": "https://localhost:8080/"
        },
        "id": "DWUxyPGUI3-A",
        "outputId": "327175da-8343-4a8c-9f17-22b99d8d03dd"
      },
      "execution_count": null,
      "outputs": [
        {
          "output_type": "stream",
          "name": "stdout",
          "text": [
            "숫자 입력 : 10\n",
            "10! = 36288000\n"
          ]
        }
      ]
    },
    {
      "cell_type": "code",
      "source": [
        "#13\n",
        "import random\n",
        "answer = random.randint(1, 100)\n",
        "cnt=0\n",
        "print(\"1부터 100 사이의 숫자를 맞히기\")\n",
        "while True:\n",
        "  guess = int(input(\"숫자를 맞춰보세요 : \"))\n",
        "  if answer<guess:\n",
        "    print(\"높음\")\n",
        "  elif answer>guess:\n",
        "    print(\"낮음\")\n",
        "  else:\n",
        "    print(\"축하합니다. 시도횟수 = %d\"%(cnt))\n",
        "    break\n",
        "  cnt+=1\n",
        "\n",
        "\n"
      ],
      "metadata": {
        "colab": {
          "base_uri": "https://localhost:8080/"
        },
        "id": "WYPJU5LXJsKw",
        "outputId": "9b009528-e214-4049-9dfe-20936f54ece3"
      },
      "execution_count": null,
      "outputs": [
        {
          "output_type": "stream",
          "name": "stdout",
          "text": [
            "1부터 100 사이의 숫자를 맞히기\n",
            "숫자를 맞춰보세요 : 50\n",
            "높음\n",
            "숫자를 맞춰보세요 : 30\n",
            "높음\n",
            "숫자를 맞춰보세요 : 20\n",
            "축하합니다. 시도횟수 = 2\n"
          ]
        }
      ]
    },
    {
      "cell_type": "code",
      "source": [
        "#14\n",
        "for i in range(10, 51, 1):\n",
        "  if i%3==0:\n",
        "    continue\n",
        "  print(i, end=\" \")"
      ],
      "metadata": {
        "colab": {
          "base_uri": "https://localhost:8080/"
        },
        "id": "CCAKL1sBNRlq",
        "outputId": "08068a6b-df15-4ec0-f775-c2e5c26b304f"
      },
      "execution_count": null,
      "outputs": [
        {
          "output_type": "stream",
          "name": "stdout",
          "text": [
            "10 11 13 14 16 17 19 20 22 23 25 26 28 29 31 32 34 35 37 38 40 41 43 44 46 47 49 50 "
          ]
        }
      ]
    },
    {
      "cell_type": "code",
      "source": [
        "#15\n",
        "import random\n",
        "print(\"주사위 게임을 시작합니다.\")\n",
        "play = \"y\"\n",
        "while play =='y' :\n",
        "  print(\"주사위를 던졌습니다.\")\n",
        "  me = random.randint(1, 6)\n",
        "  you = random.randint(1, 6)\n",
        "  print(\"나 : %d\"%(me))\n",
        "  print(\"당신 : %d\"%(you))ㅛㅛ\n",
        "  if me>you:\n",
        "    print(\"나의 승리!\")\n",
        "  elif me==you:\n",
        "    print(\"무승부!\")\n",
        "  else:\n",
        "    print(\"당신의 승리!\")\n",
        "  play = input(\"계속하려면 y를 클릭하세요!\")"
      ],
      "metadata": {
        "colab": {
          "base_uri": "https://localhost:8080/"
        },
        "id": "MNAph5YnN1sB",
        "outputId": "33c3f182-9ed1-48bc-a6e8-52886b2f6382"
      },
      "execution_count": null,
      "outputs": [
        {
          "name": "stdout",
          "output_type": "stream",
          "text": [
            "주사위 게임을 시작합니다.\n",
            "주사위를 던졌습니다.\n",
            "나 : 2\n",
            "당신 : 3\n",
            "당신의 승리!\n",
            "계속하려면 y를 클릭하세요!ㅛ\n"
          ]
        }
      ]
    },
    {
      "cell_type": "code",
      "source": [
        "#16\n",
        "a= int(input(\"숫자 입력 : \"))\n",
        "print(int(str(a)[::-1]))"
      ],
      "metadata": {
        "id": "oGgbkxQBPTo6",
        "colab": {
          "base_uri": "https://localhost:8080/"
        },
        "outputId": "f1e44645-6e2e-4480-956f-99c1236443a8"
      },
      "execution_count": 50,
      "outputs": [
        {
          "output_type": "stream",
          "name": "stdout",
          "text": [
            "숫자 입력 : 10293\n",
            "39201\n"
          ]
        }
      ]
    },
    {
      "cell_type": "code",
      "source": [
        "#16_1\n",
        "a= int(input(\"숫자 입력 : \"))\n",
        "while a!=0:\n",
        "  print(a%10, end ='')\n",
        "  a = a//10"
      ],
      "metadata": {
        "colab": {
          "base_uri": "https://localhost:8080/"
        },
        "id": "xquOSdqwUMcU",
        "outputId": "365ee10d-4695-4875-95a5-2cb737254bc1"
      },
      "execution_count": 53,
      "outputs": [
        {
          "output_type": "stream",
          "name": "stdout",
          "text": [
            "숫자 입력 : 10293\n",
            "39201"
          ]
        }
      ]
    },
    {
      "cell_type": "code",
      "source": [
        "#17\n",
        "for i in range(1, 10, 1):\n",
        "  print(\"2 x %d = %d\"%(i, 2*i))"
      ],
      "metadata": {
        "colab": {
          "base_uri": "https://localhost:8080/"
        },
        "id": "ajeomW_DajGm",
        "outputId": "589ac09c-a1dc-46ac-ef1f-7d8181e02fdb"
      },
      "execution_count": 54,
      "outputs": [
        {
          "output_type": "stream",
          "name": "stdout",
          "text": [
            "2 x 1 = 2\n",
            "2 x 2 = 4\n",
            "2 x 3 = 6\n",
            "2 x 4 = 8\n",
            "2 x 5 = 10\n",
            "2 x 6 = 12\n",
            "2 x 7 = 14\n",
            "2 x 8 = 16\n",
            "2 x 9 = 18\n"
          ]
        }
      ]
    },
    {
      "cell_type": "code",
      "source": [
        "#18\n",
        "for i in range(9, 0, -1):\n",
        "  print(\"2 x %d = %d\"%(i, 2*i))"
      ],
      "metadata": {
        "colab": {
          "base_uri": "https://localhost:8080/"
        },
        "id": "7Y8i5ch2cGX-",
        "outputId": "c04c723c-7b12-453c-d2d1-b6d8bcf05402"
      },
      "execution_count": 56,
      "outputs": [
        {
          "output_type": "stream",
          "name": "stdout",
          "text": [
            "2 x 9 = 18\n",
            "2 x 8 = 16\n",
            "2 x 7 = 14\n",
            "2 x 6 = 12\n",
            "2 x 5 = 10\n",
            "2 x 4 = 8\n",
            "2 x 3 = 6\n",
            "2 x 2 = 4\n",
            "2 x 1 = 2\n"
          ]
        }
      ]
    },
    {
      "cell_type": "code",
      "source": [
        "\n"
      ],
      "metadata": {
        "colab": {
          "base_uri": "https://localhost:8080/"
        },
        "id": "x0ux-oXxcUv_",
        "outputId": "343ace2a-52cf-45d0-d117-b3db386b547e"
      },
      "execution_count": 57,
      "outputs": [
        {
          "output_type": "stream",
          "name": "stdout",
          "text": [
            "9801\n"
          ]
        }
      ]
    }
  ]
}